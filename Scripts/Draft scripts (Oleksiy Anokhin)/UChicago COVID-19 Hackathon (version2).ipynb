{
 "cells": [
  {
   "cell_type": "markdown",
   "metadata": {},
   "source": [
    "### Oleksiy Anokhin (June 15, 2020)\n",
    "\n",
    "**Workbook for UChicago COVID-19 Hackathon:**\n",
    "https://voices.uchicago.edu/mscahackathon/\n",
    "\n",
    "**GitHub Repository:**\n",
    "https://github.com/OleksiyAnokhin/UChicago-COVID-Hackathon\n",
    "\n",
    "**Data source:** \n",
    "https://data.cityofchicago.org/Transportation/Taxi-Trips/wrvz-psew\n",
    "\n",
    "**How this dataset was created:**\n",
    "https://digital.chicago.gov/index.php/chicago-taxi-data-released/"
   ]
  },
  {
   "cell_type": "code",
   "execution_count": 1,
   "metadata": {},
   "outputs": [],
   "source": [
    "# Install libraries\n",
    "import numpy as np\n",
    "import pandas as pd\n",
    "import matplotlib.pyplot as plt\n",
    "%matplotlib inline\n",
    "from pandas import Series\n",
    "from pandas import DataFrame\n",
    "from pandas import concat\n",
    "# from sklearn.linear_model import LogisticRegression\n",
    "# from sklearn.metrics import classification_report, confusion_matrix\n",
    "# import pyreadr\n",
    "# now let's write a Rds\n",
    "# pyreadr.write_rds(\"taxi_data.Rds\", taxi_data)\n",
    "# !pip install fbprophet"
   ]
  },
  {
   "cell_type": "code",
   "execution_count": 123,
   "metadata": {},
   "outputs": [],
   "source": [
    "from fbprophet import Prophet\n",
    "from fbprophet.diagnostics import performance_metrics\n",
    "from fbprophet.diagnostics import cross_validation\n",
    "from fbprophet.plot import plot_cross_validation_metric"
   ]
  },
  {
   "cell_type": "code",
   "execution_count": 3,
   "metadata": {},
   "outputs": [
    {
     "name": "stdout",
     "output_type": "stream",
     "text": [
      "C:/Users/oleks/Documents/Projects/UChicago-COVID-Hackathon/Taxi_Trips_Dec2019-Present.csv\n"
     ]
    }
   ],
   "source": [
    "# Read dataset for December 2019 - June 2020\n",
    "path = 'C:/Users/oleks/Documents/Projects/UChicago-COVID-Hackathon/Taxi_Trips_Dec2019-Present.csv'\n",
    "print(path)"
   ]
  },
  {
   "cell_type": "code",
   "execution_count": 4,
   "metadata": {},
   "outputs": [
    {
     "data": {
      "text/html": [
       "<div>\n",
       "<style scoped>\n",
       "    .dataframe tbody tr th:only-of-type {\n",
       "        vertical-align: middle;\n",
       "    }\n",
       "\n",
       "    .dataframe tbody tr th {\n",
       "        vertical-align: top;\n",
       "    }\n",
       "\n",
       "    .dataframe thead th {\n",
       "        text-align: right;\n",
       "    }\n",
       "</style>\n",
       "<table border=\"1\" class=\"dataframe\">\n",
       "  <thead>\n",
       "    <tr style=\"text-align: right;\">\n",
       "      <th></th>\n",
       "      <th>Trip ID</th>\n",
       "      <th>Taxi ID</th>\n",
       "      <th>Trip Start Timestamp</th>\n",
       "      <th>Trip End Timestamp</th>\n",
       "      <th>Trip Seconds</th>\n",
       "      <th>Trip Miles</th>\n",
       "      <th>Pickup Census Tract</th>\n",
       "      <th>Dropoff Census Tract</th>\n",
       "      <th>Pickup Community Area</th>\n",
       "      <th>Dropoff Community Area</th>\n",
       "      <th>...</th>\n",
       "      <th>Extras</th>\n",
       "      <th>Trip Total</th>\n",
       "      <th>Payment Type</th>\n",
       "      <th>Company</th>\n",
       "      <th>Pickup Centroid Latitude</th>\n",
       "      <th>Pickup Centroid Longitude</th>\n",
       "      <th>Pickup Centroid Location</th>\n",
       "      <th>Dropoff Centroid Latitude</th>\n",
       "      <th>Dropoff Centroid Longitude</th>\n",
       "      <th>Dropoff Centroid  Location</th>\n",
       "    </tr>\n",
       "  </thead>\n",
       "  <tbody>\n",
       "    <tr>\n",
       "      <th>0</th>\n",
       "      <td>e4c06ccfb0d1de5db8675fb3a2779b209760d6ac</td>\n",
       "      <td>bbf91e67201de7487dbeb23021a9a741e36d8d65175def...</td>\n",
       "      <td>12/01/2019 12:15:00 AM</td>\n",
       "      <td>12/01/2019 12:30:00 AM</td>\n",
       "      <td>600.0</td>\n",
       "      <td>0.1</td>\n",
       "      <td>1.703184e+10</td>\n",
       "      <td>1.703108e+10</td>\n",
       "      <td>32.0</td>\n",
       "      <td>8.0</td>\n",
       "      <td>...</td>\n",
       "      <td>0.0</td>\n",
       "      <td>10.50</td>\n",
       "      <td>Credit Card</td>\n",
       "      <td>Taxi Affiliation Services</td>\n",
       "      <td>41.880994471</td>\n",
       "      <td>-87.632746</td>\n",
       "      <td>POINT (-87.6327464887 41.8809944707)</td>\n",
       "      <td>41.899156</td>\n",
       "      <td>-87.626211</td>\n",
       "      <td>POINT (-87.6262105324 41.8991556134)</td>\n",
       "    </tr>\n",
       "    <tr>\n",
       "      <th>1</th>\n",
       "      <td>e1de111c0c25003054c31e0e49e9f64cc00a8683</td>\n",
       "      <td>b83ba3da1a4bc2a686d885ec2f802c3f256c518d93816c...</td>\n",
       "      <td>12/01/2019 12:15:00 AM</td>\n",
       "      <td>12/01/2019 12:15:00 AM</td>\n",
       "      <td>180.0</td>\n",
       "      <td>0.0</td>\n",
       "      <td>NaN</td>\n",
       "      <td>NaN</td>\n",
       "      <td>7.0</td>\n",
       "      <td>6.0</td>\n",
       "      <td>...</td>\n",
       "      <td>0.0</td>\n",
       "      <td>7.00</td>\n",
       "      <td>Credit Card</td>\n",
       "      <td>Taxi Affiliation Services</td>\n",
       "      <td>41.922686284</td>\n",
       "      <td>-87.649489</td>\n",
       "      <td>POINT (-87.6494887289 41.9226862843)</td>\n",
       "      <td>41.944227</td>\n",
       "      <td>-87.655998</td>\n",
       "      <td>POINT (-87.6559981815 41.9442266014)</td>\n",
       "    </tr>\n",
       "    <tr>\n",
       "      <th>2</th>\n",
       "      <td>e0ed81be1b41bda25285afeeb76d4e4fb4be30fc</td>\n",
       "      <td>53c01ec83313fee495650d2294b7c88ade2f3d82f3acd0...</td>\n",
       "      <td>12/01/2019 12:15:00 AM</td>\n",
       "      <td>12/01/2019 12:30:00 AM</td>\n",
       "      <td>380.0</td>\n",
       "      <td>1.2</td>\n",
       "      <td>NaN</td>\n",
       "      <td>NaN</td>\n",
       "      <td>14.0</td>\n",
       "      <td>16.0</td>\n",
       "      <td>...</td>\n",
       "      <td>1.0</td>\n",
       "      <td>7.25</td>\n",
       "      <td>Cash</td>\n",
       "      <td>Flash Cab</td>\n",
       "      <td>41.968069</td>\n",
       "      <td>-87.721559</td>\n",
       "      <td>POINT (-87.7215590627 41.968069)</td>\n",
       "      <td>41.953582</td>\n",
       "      <td>-87.723452</td>\n",
       "      <td>POINT (-87.7234523905 41.9535821253)</td>\n",
       "    </tr>\n",
       "    <tr>\n",
       "      <th>3</th>\n",
       "      <td>e077d949ef075542a5168b48f9d09bd9320fd2d6</td>\n",
       "      <td>ef5e9c8f0da412a5961a77ad3da965c641e08eb1ddd19f...</td>\n",
       "      <td>12/01/2019 12:15:00 AM</td>\n",
       "      <td>12/01/2019 12:30:00 AM</td>\n",
       "      <td>780.0</td>\n",
       "      <td>2.0</td>\n",
       "      <td>1.703184e+10</td>\n",
       "      <td>1.703108e+10</td>\n",
       "      <td>32.0</td>\n",
       "      <td>8.0</td>\n",
       "      <td>...</td>\n",
       "      <td>2.0</td>\n",
       "      <td>13.60</td>\n",
       "      <td>Credit Card</td>\n",
       "      <td>Taxi Affiliation Services</td>\n",
       "      <td>41.880994471</td>\n",
       "      <td>-87.632746</td>\n",
       "      <td>POINT (-87.6327464887 41.8809944707)</td>\n",
       "      <td>41.899156</td>\n",
       "      <td>-87.626211</td>\n",
       "      <td>POINT (-87.6262105324 41.8991556134)</td>\n",
       "    </tr>\n",
       "    <tr>\n",
       "      <th>4</th>\n",
       "      <td>dfeeafe19f4fe8d71f5eadb6919b0f2fca99ee62</td>\n",
       "      <td>71cf25528ebc98e11ac91a5d359776a91874e7f6047cb8...</td>\n",
       "      <td>12/01/2019 12:15:00 AM</td>\n",
       "      <td>12/01/2019 12:30:00 AM</td>\n",
       "      <td>720.0</td>\n",
       "      <td>3.1</td>\n",
       "      <td>1.703128e+10</td>\n",
       "      <td>1.703107e+10</td>\n",
       "      <td>28.0</td>\n",
       "      <td>7.0</td>\n",
       "      <td>...</td>\n",
       "      <td>1.0</td>\n",
       "      <td>12.50</td>\n",
       "      <td>Cash</td>\n",
       "      <td>Taxi Affiliation Services</td>\n",
       "      <td>41.879255084</td>\n",
       "      <td>-87.642649</td>\n",
       "      <td>POINT (-87.642648998 41.8792550844)</td>\n",
       "      <td>41.922083</td>\n",
       "      <td>-87.634156</td>\n",
       "      <td>POINT (-87.6341560931 41.922082541)</td>\n",
       "    </tr>\n",
       "  </tbody>\n",
       "</table>\n",
       "<p>5 rows × 23 columns</p>\n",
       "</div>"
      ],
      "text/plain": [
       "                                    Trip ID  \\\n",
       "0  e4c06ccfb0d1de5db8675fb3a2779b209760d6ac   \n",
       "1  e1de111c0c25003054c31e0e49e9f64cc00a8683   \n",
       "2  e0ed81be1b41bda25285afeeb76d4e4fb4be30fc   \n",
       "3  e077d949ef075542a5168b48f9d09bd9320fd2d6   \n",
       "4  dfeeafe19f4fe8d71f5eadb6919b0f2fca99ee62   \n",
       "\n",
       "                                             Taxi ID    Trip Start Timestamp  \\\n",
       "0  bbf91e67201de7487dbeb23021a9a741e36d8d65175def...  12/01/2019 12:15:00 AM   \n",
       "1  b83ba3da1a4bc2a686d885ec2f802c3f256c518d93816c...  12/01/2019 12:15:00 AM   \n",
       "2  53c01ec83313fee495650d2294b7c88ade2f3d82f3acd0...  12/01/2019 12:15:00 AM   \n",
       "3  ef5e9c8f0da412a5961a77ad3da965c641e08eb1ddd19f...  12/01/2019 12:15:00 AM   \n",
       "4  71cf25528ebc98e11ac91a5d359776a91874e7f6047cb8...  12/01/2019 12:15:00 AM   \n",
       "\n",
       "       Trip End Timestamp  Trip Seconds  Trip Miles  Pickup Census Tract  \\\n",
       "0  12/01/2019 12:30:00 AM         600.0         0.1         1.703184e+10   \n",
       "1  12/01/2019 12:15:00 AM         180.0         0.0                  NaN   \n",
       "2  12/01/2019 12:30:00 AM         380.0         1.2                  NaN   \n",
       "3  12/01/2019 12:30:00 AM         780.0         2.0         1.703184e+10   \n",
       "4  12/01/2019 12:30:00 AM         720.0         3.1         1.703128e+10   \n",
       "\n",
       "   Dropoff Census Tract  Pickup Community Area  Dropoff Community Area  ...  \\\n",
       "0          1.703108e+10                   32.0                     8.0  ...   \n",
       "1                   NaN                    7.0                     6.0  ...   \n",
       "2                   NaN                   14.0                    16.0  ...   \n",
       "3          1.703108e+10                   32.0                     8.0  ...   \n",
       "4          1.703107e+10                   28.0                     7.0  ...   \n",
       "\n",
       "   Extras  Trip Total  Payment Type                    Company  \\\n",
       "0     0.0       10.50   Credit Card  Taxi Affiliation Services   \n",
       "1     0.0        7.00   Credit Card  Taxi Affiliation Services   \n",
       "2     1.0        7.25          Cash                  Flash Cab   \n",
       "3     2.0       13.60   Credit Card  Taxi Affiliation Services   \n",
       "4     1.0       12.50          Cash  Taxi Affiliation Services   \n",
       "\n",
       "   Pickup Centroid Latitude Pickup Centroid Longitude  \\\n",
       "0              41.880994471                -87.632746   \n",
       "1              41.922686284                -87.649489   \n",
       "2                 41.968069                -87.721559   \n",
       "3              41.880994471                -87.632746   \n",
       "4              41.879255084                -87.642649   \n",
       "\n",
       "               Pickup Centroid Location Dropoff Centroid Latitude  \\\n",
       "0  POINT (-87.6327464887 41.8809944707)                 41.899156   \n",
       "1  POINT (-87.6494887289 41.9226862843)                 41.944227   \n",
       "2      POINT (-87.7215590627 41.968069)                 41.953582   \n",
       "3  POINT (-87.6327464887 41.8809944707)                 41.899156   \n",
       "4   POINT (-87.642648998 41.8792550844)                 41.922083   \n",
       "\n",
       "   Dropoff Centroid Longitude            Dropoff Centroid  Location  \n",
       "0                  -87.626211  POINT (-87.6262105324 41.8991556134)  \n",
       "1                  -87.655998  POINT (-87.6559981815 41.9442266014)  \n",
       "2                  -87.723452  POINT (-87.7234523905 41.9535821253)  \n",
       "3                  -87.626211  POINT (-87.6262105324 41.8991556134)  \n",
       "4                  -87.634156   POINT (-87.6341560931 41.922082541)  \n",
       "\n",
       "[5 rows x 23 columns]"
      ]
     },
     "execution_count": 4,
     "metadata": {},
     "output_type": "execute_result"
    }
   ],
   "source": [
    "# Read csv for December 2019 - June 2020\n",
    "taxi_2020 = pd.read_csv(path, encoding = 'ISO-8859-1', low_memory = False)\n",
    "taxi_2020.head()"
   ]
  },
  {
   "cell_type": "code",
   "execution_count": 6,
   "metadata": {},
   "outputs": [
    {
     "name": "stdout",
     "output_type": "stream",
     "text": [
      "<class 'pandas.core.frame.DataFrame'>\n",
      "RangeIndex: 4137294 entries, 0 to 4137293\n",
      "Data columns (total 23 columns):\n",
      " #   Column                      Dtype  \n",
      "---  ------                      -----  \n",
      " 0   Trip ID                     object \n",
      " 1   Taxi ID                     object \n",
      " 2   Trip Start Timestamp        object \n",
      " 3   Trip End Timestamp          object \n",
      " 4   Trip Seconds                float64\n",
      " 5   Trip Miles                  float64\n",
      " 6   Pickup Census Tract         float64\n",
      " 7   Dropoff Census Tract        float64\n",
      " 8   Pickup Community Area       float64\n",
      " 9   Dropoff Community Area      float64\n",
      " 10  Fare                        float64\n",
      " 11  Tips                        float64\n",
      " 12  Tolls                       float64\n",
      " 13  Extras                      float64\n",
      " 14  Trip Total                  float64\n",
      " 15  Payment Type                object \n",
      " 16  Company                     object \n",
      " 17  Pickup Centroid Latitude    object \n",
      " 18  Pickup Centroid Longitude   float64\n",
      " 19  Pickup Centroid Location    object \n",
      " 20  Dropoff Centroid Latitude   float64\n",
      " 21  Dropoff Centroid Longitude  float64\n",
      " 22  Dropoff Centroid  Location  object \n",
      "dtypes: float64(14), object(9)\n",
      "memory usage: 726.0+ MB\n"
     ]
    }
   ],
   "source": [
    "# Check the dataframe info\n",
    "taxi_2020.info()\n",
    "# In total we have 4137294 rows"
   ]
  },
  {
   "cell_type": "code",
   "execution_count": 7,
   "metadata": {},
   "outputs": [
    {
     "data": {
      "text/plain": [
       "True"
      ]
     },
     "execution_count": 7,
     "metadata": {},
     "output_type": "execute_result"
    }
   ],
   "source": [
    "# Check duplicates in column Taxi ID\n",
    "taxi_2020['Taxi ID'].duplicated().any()"
   ]
  },
  {
   "cell_type": "code",
   "execution_count": 8,
   "metadata": {},
   "outputs": [
    {
     "data": {
      "text/plain": [
       "4641"
      ]
     },
     "execution_count": 8,
     "metadata": {},
     "output_type": "execute_result"
    }
   ],
   "source": [
    "# Check unique values with nunique()\n",
    "taxi_2020['Taxi ID'].nunique()"
   ]
  },
  {
   "cell_type": "code",
   "execution_count": 9,
   "metadata": {},
   "outputs": [
    {
     "data": {
      "text/plain": [
       "4137026"
      ]
     },
     "execution_count": 9,
     "metadata": {},
     "output_type": "execute_result"
    }
   ],
   "source": [
    "# Check unique values with count()\n",
    "taxi_2020['Taxi ID'].count()"
   ]
  },
  {
   "cell_type": "code",
   "execution_count": 5,
   "metadata": {},
   "outputs": [],
   "source": [
    "# I will keep Taxi ID column, but will drop Ride ID column\n",
    "taxi_2020 = taxi_2020.drop('Trip ID', 1)"
   ]
  },
  {
   "cell_type": "code",
   "execution_count": 11,
   "metadata": {},
   "outputs": [
    {
     "data": {
      "text/html": [
       "<div>\n",
       "<style scoped>\n",
       "    .dataframe tbody tr th:only-of-type {\n",
       "        vertical-align: middle;\n",
       "    }\n",
       "\n",
       "    .dataframe tbody tr th {\n",
       "        vertical-align: top;\n",
       "    }\n",
       "\n",
       "    .dataframe thead th {\n",
       "        text-align: right;\n",
       "    }\n",
       "</style>\n",
       "<table border=\"1\" class=\"dataframe\">\n",
       "  <thead>\n",
       "    <tr style=\"text-align: right;\">\n",
       "      <th></th>\n",
       "      <th>Taxi ID</th>\n",
       "      <th>Trip Start Timestamp</th>\n",
       "      <th>Trip End Timestamp</th>\n",
       "      <th>Trip Seconds</th>\n",
       "      <th>Trip Miles</th>\n",
       "      <th>Pickup Census Tract</th>\n",
       "      <th>Dropoff Census Tract</th>\n",
       "      <th>Pickup Community Area</th>\n",
       "      <th>Dropoff Community Area</th>\n",
       "      <th>Fare</th>\n",
       "      <th>...</th>\n",
       "      <th>Extras</th>\n",
       "      <th>Trip Total</th>\n",
       "      <th>Payment Type</th>\n",
       "      <th>Company</th>\n",
       "      <th>Pickup Centroid Latitude</th>\n",
       "      <th>Pickup Centroid Longitude</th>\n",
       "      <th>Pickup Centroid Location</th>\n",
       "      <th>Dropoff Centroid Latitude</th>\n",
       "      <th>Dropoff Centroid Longitude</th>\n",
       "      <th>Dropoff Centroid  Location</th>\n",
       "    </tr>\n",
       "  </thead>\n",
       "  <tbody>\n",
       "    <tr>\n",
       "      <th>0</th>\n",
       "      <td>bbf91e67201de7487dbeb23021a9a741e36d8d65175def...</td>\n",
       "      <td>12/01/2019 12:15:00 AM</td>\n",
       "      <td>12/01/2019 12:30:00 AM</td>\n",
       "      <td>600.0</td>\n",
       "      <td>0.1</td>\n",
       "      <td>1.703184e+10</td>\n",
       "      <td>1.703108e+10</td>\n",
       "      <td>32.0</td>\n",
       "      <td>8.0</td>\n",
       "      <td>8.75</td>\n",
       "      <td>...</td>\n",
       "      <td>0.0</td>\n",
       "      <td>10.50</td>\n",
       "      <td>Credit Card</td>\n",
       "      <td>Taxi Affiliation Services</td>\n",
       "      <td>41.881</td>\n",
       "      <td>-87.632746</td>\n",
       "      <td>POINT (-87.6327464887 41.8809944707)</td>\n",
       "      <td>41.899156</td>\n",
       "      <td>-87.626211</td>\n",
       "      <td>POINT (-87.6262105324 41.8991556134)</td>\n",
       "    </tr>\n",
       "    <tr>\n",
       "      <th>1</th>\n",
       "      <td>b83ba3da1a4bc2a686d885ec2f802c3f256c518d93816c...</td>\n",
       "      <td>12/01/2019 12:15:00 AM</td>\n",
       "      <td>12/01/2019 12:15:00 AM</td>\n",
       "      <td>180.0</td>\n",
       "      <td>0.0</td>\n",
       "      <td>NaN</td>\n",
       "      <td>NaN</td>\n",
       "      <td>7.0</td>\n",
       "      <td>6.0</td>\n",
       "      <td>5.00</td>\n",
       "      <td>...</td>\n",
       "      <td>0.0</td>\n",
       "      <td>7.00</td>\n",
       "      <td>Credit Card</td>\n",
       "      <td>Taxi Affiliation Services</td>\n",
       "      <td>41.9227</td>\n",
       "      <td>-87.649489</td>\n",
       "      <td>POINT (-87.6494887289 41.9226862843)</td>\n",
       "      <td>41.944227</td>\n",
       "      <td>-87.655998</td>\n",
       "      <td>POINT (-87.6559981815 41.9442266014)</td>\n",
       "    </tr>\n",
       "    <tr>\n",
       "      <th>2</th>\n",
       "      <td>53c01ec83313fee495650d2294b7c88ade2f3d82f3acd0...</td>\n",
       "      <td>12/01/2019 12:15:00 AM</td>\n",
       "      <td>12/01/2019 12:30:00 AM</td>\n",
       "      <td>380.0</td>\n",
       "      <td>1.2</td>\n",
       "      <td>NaN</td>\n",
       "      <td>NaN</td>\n",
       "      <td>14.0</td>\n",
       "      <td>16.0</td>\n",
       "      <td>6.25</td>\n",
       "      <td>...</td>\n",
       "      <td>1.0</td>\n",
       "      <td>7.25</td>\n",
       "      <td>Cash</td>\n",
       "      <td>Flash Cab</td>\n",
       "      <td>41.9681</td>\n",
       "      <td>-87.721559</td>\n",
       "      <td>POINT (-87.7215590627 41.968069)</td>\n",
       "      <td>41.953582</td>\n",
       "      <td>-87.723452</td>\n",
       "      <td>POINT (-87.7234523905 41.9535821253)</td>\n",
       "    </tr>\n",
       "    <tr>\n",
       "      <th>3</th>\n",
       "      <td>ef5e9c8f0da412a5961a77ad3da965c641e08eb1ddd19f...</td>\n",
       "      <td>12/01/2019 12:15:00 AM</td>\n",
       "      <td>12/01/2019 12:30:00 AM</td>\n",
       "      <td>780.0</td>\n",
       "      <td>2.0</td>\n",
       "      <td>1.703184e+10</td>\n",
       "      <td>1.703108e+10</td>\n",
       "      <td>32.0</td>\n",
       "      <td>8.0</td>\n",
       "      <td>9.25</td>\n",
       "      <td>...</td>\n",
       "      <td>2.0</td>\n",
       "      <td>13.60</td>\n",
       "      <td>Credit Card</td>\n",
       "      <td>Taxi Affiliation Services</td>\n",
       "      <td>41.881</td>\n",
       "      <td>-87.632746</td>\n",
       "      <td>POINT (-87.6327464887 41.8809944707)</td>\n",
       "      <td>41.899156</td>\n",
       "      <td>-87.626211</td>\n",
       "      <td>POINT (-87.6262105324 41.8991556134)</td>\n",
       "    </tr>\n",
       "    <tr>\n",
       "      <th>4</th>\n",
       "      <td>71cf25528ebc98e11ac91a5d359776a91874e7f6047cb8...</td>\n",
       "      <td>12/01/2019 12:15:00 AM</td>\n",
       "      <td>12/01/2019 12:30:00 AM</td>\n",
       "      <td>720.0</td>\n",
       "      <td>3.1</td>\n",
       "      <td>1.703128e+10</td>\n",
       "      <td>1.703107e+10</td>\n",
       "      <td>28.0</td>\n",
       "      <td>7.0</td>\n",
       "      <td>11.50</td>\n",
       "      <td>...</td>\n",
       "      <td>1.0</td>\n",
       "      <td>12.50</td>\n",
       "      <td>Cash</td>\n",
       "      <td>Taxi Affiliation Services</td>\n",
       "      <td>41.8793</td>\n",
       "      <td>-87.642649</td>\n",
       "      <td>POINT (-87.642648998 41.8792550844)</td>\n",
       "      <td>41.922083</td>\n",
       "      <td>-87.634156</td>\n",
       "      <td>POINT (-87.6341560931 41.922082541)</td>\n",
       "    </tr>\n",
       "  </tbody>\n",
       "</table>\n",
       "<p>5 rows × 22 columns</p>\n",
       "</div>"
      ],
      "text/plain": [
       "                                             Taxi ID    Trip Start Timestamp  \\\n",
       "0  bbf91e67201de7487dbeb23021a9a741e36d8d65175def...  12/01/2019 12:15:00 AM   \n",
       "1  b83ba3da1a4bc2a686d885ec2f802c3f256c518d93816c...  12/01/2019 12:15:00 AM   \n",
       "2  53c01ec83313fee495650d2294b7c88ade2f3d82f3acd0...  12/01/2019 12:15:00 AM   \n",
       "3  ef5e9c8f0da412a5961a77ad3da965c641e08eb1ddd19f...  12/01/2019 12:15:00 AM   \n",
       "4  71cf25528ebc98e11ac91a5d359776a91874e7f6047cb8...  12/01/2019 12:15:00 AM   \n",
       "\n",
       "       Trip End Timestamp  Trip Seconds  Trip Miles  Pickup Census Tract  \\\n",
       "0  12/01/2019 12:30:00 AM         600.0         0.1         1.703184e+10   \n",
       "1  12/01/2019 12:15:00 AM         180.0         0.0                  NaN   \n",
       "2  12/01/2019 12:30:00 AM         380.0         1.2                  NaN   \n",
       "3  12/01/2019 12:30:00 AM         780.0         2.0         1.703184e+10   \n",
       "4  12/01/2019 12:30:00 AM         720.0         3.1         1.703128e+10   \n",
       "\n",
       "   Dropoff Census Tract  Pickup Community Area  Dropoff Community Area   Fare  \\\n",
       "0          1.703108e+10                   32.0                     8.0   8.75   \n",
       "1                   NaN                    7.0                     6.0   5.00   \n",
       "2                   NaN                   14.0                    16.0   6.25   \n",
       "3          1.703108e+10                   32.0                     8.0   9.25   \n",
       "4          1.703107e+10                   28.0                     7.0  11.50   \n",
       "\n",
       "   ...  Extras  Trip Total  Payment Type                    Company  \\\n",
       "0  ...     0.0       10.50   Credit Card  Taxi Affiliation Services   \n",
       "1  ...     0.0        7.00   Credit Card  Taxi Affiliation Services   \n",
       "2  ...     1.0        7.25          Cash                  Flash Cab   \n",
       "3  ...     2.0       13.60   Credit Card  Taxi Affiliation Services   \n",
       "4  ...     1.0       12.50          Cash  Taxi Affiliation Services   \n",
       "\n",
       "  Pickup Centroid Latitude Pickup Centroid Longitude  \\\n",
       "0                   41.881                -87.632746   \n",
       "1                  41.9227                -87.649489   \n",
       "2                  41.9681                -87.721559   \n",
       "3                   41.881                -87.632746   \n",
       "4                  41.8793                -87.642649   \n",
       "\n",
       "               Pickup Centroid Location  Dropoff Centroid Latitude  \\\n",
       "0  POINT (-87.6327464887 41.8809944707)                  41.899156   \n",
       "1  POINT (-87.6494887289 41.9226862843)                  41.944227   \n",
       "2      POINT (-87.7215590627 41.968069)                  41.953582   \n",
       "3  POINT (-87.6327464887 41.8809944707)                  41.899156   \n",
       "4   POINT (-87.642648998 41.8792550844)                  41.922083   \n",
       "\n",
       "  Dropoff Centroid Longitude            Dropoff Centroid  Location  \n",
       "0                 -87.626211  POINT (-87.6262105324 41.8991556134)  \n",
       "1                 -87.655998  POINT (-87.6559981815 41.9442266014)  \n",
       "2                 -87.723452  POINT (-87.7234523905 41.9535821253)  \n",
       "3                 -87.626211  POINT (-87.6262105324 41.8991556134)  \n",
       "4                 -87.634156   POINT (-87.6341560931 41.922082541)  \n",
       "\n",
       "[5 rows x 22 columns]"
      ]
     },
     "execution_count": 11,
     "metadata": {},
     "output_type": "execute_result"
    }
   ],
   "source": [
    "# Check structure\n",
    "taxi_2020.head()\n",
    "# As you can see below, now we have only 22 columns"
   ]
  },
  {
   "cell_type": "code",
   "execution_count": 12,
   "metadata": {},
   "outputs": [
    {
     "data": {
      "text/plain": [
       "Taxi ID                        object\n",
       "Trip Start Timestamp           object\n",
       "Trip End Timestamp             object\n",
       "Trip Seconds                  float64\n",
       "Trip Miles                    float64\n",
       "Pickup Census Tract           float64\n",
       "Dropoff Census Tract          float64\n",
       "Pickup Community Area         float64\n",
       "Dropoff Community Area        float64\n",
       "Fare                          float64\n",
       "Tips                          float64\n",
       "Tolls                         float64\n",
       "Extras                        float64\n",
       "Trip Total                    float64\n",
       "Payment Type                   object\n",
       "Company                        object\n",
       "Pickup Centroid Latitude       object\n",
       "Pickup Centroid Longitude     float64\n",
       "Pickup Centroid Location       object\n",
       "Dropoff Centroid Latitude     float64\n",
       "Dropoff Centroid Longitude    float64\n",
       "Dropoff Centroid  Location     object\n",
       "dtype: object"
      ]
     },
     "execution_count": 12,
     "metadata": {},
     "output_type": "execute_result"
    }
   ],
   "source": [
    "# Check column types\n",
    "taxi_2020.dtypes"
   ]
  },
  {
   "cell_type": "code",
   "execution_count": 6,
   "metadata": {},
   "outputs": [],
   "source": [
    "# Convert format and coerce errors for now\n",
    "taxi_2020['Trip Start Timestamp'] = pd.to_datetime(taxi_2020['Trip Start Timestamp'], errors = 'coerce')\n",
    "taxi_2020['Trip End Timestamp'] = pd.to_datetime(taxi_2020['Trip End Timestamp'], errors = 'coerce')\n",
    "# This is a temporary solution and I think it can hurt in furure. Also, might be a good idea split data first"
   ]
  },
  {
   "cell_type": "code",
   "execution_count": 16,
   "metadata": {},
   "outputs": [
    {
     "data": {
      "text/plain": [
       "Taxi ID                               object\n",
       "Trip Start Timestamp          datetime64[ns]\n",
       "Trip End Timestamp            datetime64[ns]\n",
       "Trip Seconds                         float64\n",
       "Trip Miles                           float64\n",
       "Pickup Census Tract                  float64\n",
       "Dropoff Census Tract                 float64\n",
       "Pickup Community Area                float64\n",
       "Dropoff Community Area               float64\n",
       "Fare                                 float64\n",
       "Tips                                 float64\n",
       "Tolls                                float64\n",
       "Extras                               float64\n",
       "Trip Total                           float64\n",
       "Payment Type                          object\n",
       "Company                               object\n",
       "Pickup Centroid Latitude              object\n",
       "Pickup Centroid Longitude            float64\n",
       "Pickup Centroid Location              object\n",
       "Dropoff Centroid Latitude            float64\n",
       "Dropoff Centroid Longitude           float64\n",
       "Dropoff Centroid  Location            object\n",
       "Start Date                            object\n",
       "Start Time                            object\n",
       "End Date                              object\n",
       "End Time                              object\n",
       "dtype: object"
      ]
     },
     "execution_count": 16,
     "metadata": {},
     "output_type": "execute_result"
    }
   ],
   "source": [
    "# Check data types again\n",
    "taxi_2020.dtypes"
   ]
  },
  {
   "cell_type": "code",
   "execution_count": 7,
   "metadata": {},
   "outputs": [],
   "source": [
    "# Split trip start and trip end columns\n",
    "taxi_2020['Start Date'] = taxi_2020['Trip Start Timestamp'].dt.date\n",
    "taxi_2020['Start Time'] = taxi_2020['Trip Start Timestamp'].dt.time\n",
    "taxi_2020['End Date'] = taxi_2020['Trip End Timestamp'].dt.date\n",
    "taxi_2020['End Time'] = taxi_2020['Trip End Timestamp'].dt.time"
   ]
  },
  {
   "cell_type": "code",
   "execution_count": 18,
   "metadata": {},
   "outputs": [
    {
     "data": {
      "text/html": [
       "<div>\n",
       "<style scoped>\n",
       "    .dataframe tbody tr th:only-of-type {\n",
       "        vertical-align: middle;\n",
       "    }\n",
       "\n",
       "    .dataframe tbody tr th {\n",
       "        vertical-align: top;\n",
       "    }\n",
       "\n",
       "    .dataframe thead th {\n",
       "        text-align: right;\n",
       "    }\n",
       "</style>\n",
       "<table border=\"1\" class=\"dataframe\">\n",
       "  <thead>\n",
       "    <tr style=\"text-align: right;\">\n",
       "      <th></th>\n",
       "      <th>Taxi ID</th>\n",
       "      <th>Trip Start Timestamp</th>\n",
       "      <th>Trip End Timestamp</th>\n",
       "      <th>Trip Seconds</th>\n",
       "      <th>Trip Miles</th>\n",
       "      <th>Pickup Census Tract</th>\n",
       "      <th>Dropoff Census Tract</th>\n",
       "      <th>Pickup Community Area</th>\n",
       "      <th>Dropoff Community Area</th>\n",
       "      <th>Fare</th>\n",
       "      <th>...</th>\n",
       "      <th>Pickup Centroid Latitude</th>\n",
       "      <th>Pickup Centroid Longitude</th>\n",
       "      <th>Pickup Centroid Location</th>\n",
       "      <th>Dropoff Centroid Latitude</th>\n",
       "      <th>Dropoff Centroid Longitude</th>\n",
       "      <th>Dropoff Centroid  Location</th>\n",
       "      <th>Start Date</th>\n",
       "      <th>Start Time</th>\n",
       "      <th>End Date</th>\n",
       "      <th>End Time</th>\n",
       "    </tr>\n",
       "  </thead>\n",
       "  <tbody>\n",
       "    <tr>\n",
       "      <th>0</th>\n",
       "      <td>bbf91e67201de7487dbeb23021a9a741e36d8d65175def...</td>\n",
       "      <td>2019-12-01 00:15:00</td>\n",
       "      <td>2019-12-01 00:30:00</td>\n",
       "      <td>600.0</td>\n",
       "      <td>0.1</td>\n",
       "      <td>1.703184e+10</td>\n",
       "      <td>1.703108e+10</td>\n",
       "      <td>32.0</td>\n",
       "      <td>8.0</td>\n",
       "      <td>8.75</td>\n",
       "      <td>...</td>\n",
       "      <td>41.881</td>\n",
       "      <td>-87.632746</td>\n",
       "      <td>POINT (-87.6327464887 41.8809944707)</td>\n",
       "      <td>41.899156</td>\n",
       "      <td>-87.626211</td>\n",
       "      <td>POINT (-87.6262105324 41.8991556134)</td>\n",
       "      <td>2019-12-01</td>\n",
       "      <td>00:15:00</td>\n",
       "      <td>2019-12-01</td>\n",
       "      <td>00:30:00</td>\n",
       "    </tr>\n",
       "    <tr>\n",
       "      <th>1</th>\n",
       "      <td>b83ba3da1a4bc2a686d885ec2f802c3f256c518d93816c...</td>\n",
       "      <td>2019-12-01 00:15:00</td>\n",
       "      <td>2019-12-01 00:15:00</td>\n",
       "      <td>180.0</td>\n",
       "      <td>0.0</td>\n",
       "      <td>NaN</td>\n",
       "      <td>NaN</td>\n",
       "      <td>7.0</td>\n",
       "      <td>6.0</td>\n",
       "      <td>5.00</td>\n",
       "      <td>...</td>\n",
       "      <td>41.9227</td>\n",
       "      <td>-87.649489</td>\n",
       "      <td>POINT (-87.6494887289 41.9226862843)</td>\n",
       "      <td>41.944227</td>\n",
       "      <td>-87.655998</td>\n",
       "      <td>POINT (-87.6559981815 41.9442266014)</td>\n",
       "      <td>2019-12-01</td>\n",
       "      <td>00:15:00</td>\n",
       "      <td>2019-12-01</td>\n",
       "      <td>00:15:00</td>\n",
       "    </tr>\n",
       "    <tr>\n",
       "      <th>2</th>\n",
       "      <td>53c01ec83313fee495650d2294b7c88ade2f3d82f3acd0...</td>\n",
       "      <td>2019-12-01 00:15:00</td>\n",
       "      <td>2019-12-01 00:30:00</td>\n",
       "      <td>380.0</td>\n",
       "      <td>1.2</td>\n",
       "      <td>NaN</td>\n",
       "      <td>NaN</td>\n",
       "      <td>14.0</td>\n",
       "      <td>16.0</td>\n",
       "      <td>6.25</td>\n",
       "      <td>...</td>\n",
       "      <td>41.9681</td>\n",
       "      <td>-87.721559</td>\n",
       "      <td>POINT (-87.7215590627 41.968069)</td>\n",
       "      <td>41.953582</td>\n",
       "      <td>-87.723452</td>\n",
       "      <td>POINT (-87.7234523905 41.9535821253)</td>\n",
       "      <td>2019-12-01</td>\n",
       "      <td>00:15:00</td>\n",
       "      <td>2019-12-01</td>\n",
       "      <td>00:30:00</td>\n",
       "    </tr>\n",
       "    <tr>\n",
       "      <th>3</th>\n",
       "      <td>ef5e9c8f0da412a5961a77ad3da965c641e08eb1ddd19f...</td>\n",
       "      <td>2019-12-01 00:15:00</td>\n",
       "      <td>2019-12-01 00:30:00</td>\n",
       "      <td>780.0</td>\n",
       "      <td>2.0</td>\n",
       "      <td>1.703184e+10</td>\n",
       "      <td>1.703108e+10</td>\n",
       "      <td>32.0</td>\n",
       "      <td>8.0</td>\n",
       "      <td>9.25</td>\n",
       "      <td>...</td>\n",
       "      <td>41.881</td>\n",
       "      <td>-87.632746</td>\n",
       "      <td>POINT (-87.6327464887 41.8809944707)</td>\n",
       "      <td>41.899156</td>\n",
       "      <td>-87.626211</td>\n",
       "      <td>POINT (-87.6262105324 41.8991556134)</td>\n",
       "      <td>2019-12-01</td>\n",
       "      <td>00:15:00</td>\n",
       "      <td>2019-12-01</td>\n",
       "      <td>00:30:00</td>\n",
       "    </tr>\n",
       "    <tr>\n",
       "      <th>4</th>\n",
       "      <td>71cf25528ebc98e11ac91a5d359776a91874e7f6047cb8...</td>\n",
       "      <td>2019-12-01 00:15:00</td>\n",
       "      <td>2019-12-01 00:30:00</td>\n",
       "      <td>720.0</td>\n",
       "      <td>3.1</td>\n",
       "      <td>1.703128e+10</td>\n",
       "      <td>1.703107e+10</td>\n",
       "      <td>28.0</td>\n",
       "      <td>7.0</td>\n",
       "      <td>11.50</td>\n",
       "      <td>...</td>\n",
       "      <td>41.8793</td>\n",
       "      <td>-87.642649</td>\n",
       "      <td>POINT (-87.642648998 41.8792550844)</td>\n",
       "      <td>41.922083</td>\n",
       "      <td>-87.634156</td>\n",
       "      <td>POINT (-87.6341560931 41.922082541)</td>\n",
       "      <td>2019-12-01</td>\n",
       "      <td>00:15:00</td>\n",
       "      <td>2019-12-01</td>\n",
       "      <td>00:30:00</td>\n",
       "    </tr>\n",
       "  </tbody>\n",
       "</table>\n",
       "<p>5 rows × 26 columns</p>\n",
       "</div>"
      ],
      "text/plain": [
       "                                             Taxi ID Trip Start Timestamp  \\\n",
       "0  bbf91e67201de7487dbeb23021a9a741e36d8d65175def...  2019-12-01 00:15:00   \n",
       "1  b83ba3da1a4bc2a686d885ec2f802c3f256c518d93816c...  2019-12-01 00:15:00   \n",
       "2  53c01ec83313fee495650d2294b7c88ade2f3d82f3acd0...  2019-12-01 00:15:00   \n",
       "3  ef5e9c8f0da412a5961a77ad3da965c641e08eb1ddd19f...  2019-12-01 00:15:00   \n",
       "4  71cf25528ebc98e11ac91a5d359776a91874e7f6047cb8...  2019-12-01 00:15:00   \n",
       "\n",
       "   Trip End Timestamp  Trip Seconds  Trip Miles  Pickup Census Tract  \\\n",
       "0 2019-12-01 00:30:00         600.0         0.1         1.703184e+10   \n",
       "1 2019-12-01 00:15:00         180.0         0.0                  NaN   \n",
       "2 2019-12-01 00:30:00         380.0         1.2                  NaN   \n",
       "3 2019-12-01 00:30:00         780.0         2.0         1.703184e+10   \n",
       "4 2019-12-01 00:30:00         720.0         3.1         1.703128e+10   \n",
       "\n",
       "   Dropoff Census Tract  Pickup Community Area  Dropoff Community Area   Fare  \\\n",
       "0          1.703108e+10                   32.0                     8.0   8.75   \n",
       "1                   NaN                    7.0                     6.0   5.00   \n",
       "2                   NaN                   14.0                    16.0   6.25   \n",
       "3          1.703108e+10                   32.0                     8.0   9.25   \n",
       "4          1.703107e+10                   28.0                     7.0  11.50   \n",
       "\n",
       "   ...  Pickup Centroid Latitude  Pickup Centroid Longitude  \\\n",
       "0  ...                    41.881                 -87.632746   \n",
       "1  ...                   41.9227                 -87.649489   \n",
       "2  ...                   41.9681                 -87.721559   \n",
       "3  ...                    41.881                 -87.632746   \n",
       "4  ...                   41.8793                 -87.642649   \n",
       "\n",
       "               Pickup Centroid Location  Dropoff Centroid Latitude  \\\n",
       "0  POINT (-87.6327464887 41.8809944707)                  41.899156   \n",
       "1  POINT (-87.6494887289 41.9226862843)                  41.944227   \n",
       "2      POINT (-87.7215590627 41.968069)                  41.953582   \n",
       "3  POINT (-87.6327464887 41.8809944707)                  41.899156   \n",
       "4   POINT (-87.642648998 41.8792550844)                  41.922083   \n",
       "\n",
       "  Dropoff Centroid Longitude            Dropoff Centroid  Location  \\\n",
       "0                 -87.626211  POINT (-87.6262105324 41.8991556134)   \n",
       "1                 -87.655998  POINT (-87.6559981815 41.9442266014)   \n",
       "2                 -87.723452  POINT (-87.7234523905 41.9535821253)   \n",
       "3                 -87.626211  POINT (-87.6262105324 41.8991556134)   \n",
       "4                 -87.634156   POINT (-87.6341560931 41.922082541)   \n",
       "\n",
       "   Start Date  Start Time    End Date  End Time  \n",
       "0  2019-12-01    00:15:00  2019-12-01  00:30:00  \n",
       "1  2019-12-01    00:15:00  2019-12-01  00:15:00  \n",
       "2  2019-12-01    00:15:00  2019-12-01  00:30:00  \n",
       "3  2019-12-01    00:15:00  2019-12-01  00:30:00  \n",
       "4  2019-12-01    00:15:00  2019-12-01  00:30:00  \n",
       "\n",
       "[5 rows x 26 columns]"
      ]
     },
     "execution_count": 18,
     "metadata": {},
     "output_type": "execute_result"
    }
   ],
   "source": [
    "# Check data types again\n",
    "taxi_2020.head()"
   ]
  },
  {
   "cell_type": "code",
   "execution_count": 19,
   "metadata": {},
   "outputs": [
    {
     "data": {
      "text/plain": [
       "Taxi ID                               object\n",
       "Trip Start Timestamp          datetime64[ns]\n",
       "Trip End Timestamp            datetime64[ns]\n",
       "Trip Seconds                         float64\n",
       "Trip Miles                           float64\n",
       "Pickup Census Tract                  float64\n",
       "Dropoff Census Tract                 float64\n",
       "Pickup Community Area                float64\n",
       "Dropoff Community Area               float64\n",
       "Fare                                 float64\n",
       "Tips                                 float64\n",
       "Tolls                                float64\n",
       "Extras                               float64\n",
       "Trip Total                           float64\n",
       "Payment Type                          object\n",
       "Company                               object\n",
       "Pickup Centroid Latitude              object\n",
       "Pickup Centroid Longitude            float64\n",
       "Pickup Centroid Location              object\n",
       "Dropoff Centroid Latitude            float64\n",
       "Dropoff Centroid Longitude           float64\n",
       "Dropoff Centroid  Location            object\n",
       "Start Date                            object\n",
       "Start Time                            object\n",
       "End Date                              object\n",
       "End Time                              object\n",
       "dtype: object"
      ]
     },
     "execution_count": 19,
     "metadata": {},
     "output_type": "execute_result"
    }
   ],
   "source": [
    "# Check data types again\n",
    "taxi_2020.dtypes"
   ]
  },
  {
   "cell_type": "code",
   "execution_count": 8,
   "metadata": {},
   "outputs": [],
   "source": [
    "# Convert start date and into datetime format\n",
    "taxi_2020['Start Date'] = pd.to_datetime(taxi_2020['Start Date'])\n",
    "taxi_2020['End Date'] = pd.to_datetime(taxi_2020['End Date'])"
   ]
  },
  {
   "cell_type": "code",
   "execution_count": 21,
   "metadata": {},
   "outputs": [
    {
     "data": {
      "text/plain": [
       "Taxi ID                               object\n",
       "Trip Start Timestamp          datetime64[ns]\n",
       "Trip End Timestamp            datetime64[ns]\n",
       "Trip Seconds                         float64\n",
       "Trip Miles                           float64\n",
       "Pickup Census Tract                  float64\n",
       "Dropoff Census Tract                 float64\n",
       "Pickup Community Area                float64\n",
       "Dropoff Community Area               float64\n",
       "Fare                                 float64\n",
       "Tips                                 float64\n",
       "Tolls                                float64\n",
       "Extras                               float64\n",
       "Trip Total                           float64\n",
       "Payment Type                          object\n",
       "Company                               object\n",
       "Pickup Centroid Latitude              object\n",
       "Pickup Centroid Longitude            float64\n",
       "Pickup Centroid Location              object\n",
       "Dropoff Centroid Latitude            float64\n",
       "Dropoff Centroid Longitude           float64\n",
       "Dropoff Centroid  Location            object\n",
       "Start Date                    datetime64[ns]\n",
       "Start Time                            object\n",
       "End Date                      datetime64[ns]\n",
       "End Time                              object\n",
       "dtype: object"
      ]
     },
     "execution_count": 21,
     "metadata": {},
     "output_type": "execute_result"
    }
   ],
   "source": [
    "# Check data types again\n",
    "taxi_2020.dtypes"
   ]
  },
  {
   "cell_type": "markdown",
   "metadata": {},
   "source": [
    "### 1. Exploring the frequency of rides (total and by company before and after COVID-19)"
   ]
  },
  {
   "cell_type": "code",
   "execution_count": 9,
   "metadata": {},
   "outputs": [],
   "source": [
    "# Group rides by date and count\n",
    "taxi_2020_by_day = taxi_2020['Start Date'].dt.date.value_counts().sort_index().reset_index()\n",
    "taxi_2020_by_day.columns = ['Start Date', 'Count']"
   ]
  },
  {
   "cell_type": "code",
   "execution_count": 64,
   "metadata": {},
   "outputs": [
    {
     "name": "stdout",
     "output_type": "stream",
     "text": [
      "     Start_date  Count\n",
      "0    2019-12-01  33571\n",
      "1    2019-12-02  52913\n",
      "2    2019-12-03  56998\n",
      "3    2019-12-04  58126\n",
      "4    2019-12-05  62134\n",
      "..          ...    ...\n",
      "179  2020-05-28   2721\n",
      "180  2020-05-29   2844\n",
      "181  2020-05-30   2394\n",
      "182  2020-05-31   2438\n",
      "183  2020-06-01     10\n",
      "\n",
      "[184 rows x 2 columns]\n"
     ]
    },
    {
     "data": {
      "text/plain": [
       "Start_date    object\n",
       "Count          int64\n",
       "dtype: object"
      ]
     },
     "execution_count": 64,
     "metadata": {},
     "output_type": "execute_result"
    }
   ],
   "source": [
    "print(taxi_2020_by_day)\n",
    "taxi_2020_by_day.dtypes"
   ]
  },
  {
   "cell_type": "code",
   "execution_count": 11,
   "metadata": {},
   "outputs": [],
   "source": [
    "# Rename start date column\n",
    "taxi_2020_by_day = taxi_2020_by_day.rename(columns = {'Start Date': \"Start_date\"})"
   ]
  },
  {
   "cell_type": "code",
   "execution_count": 144,
   "metadata": {},
   "outputs": [
    {
     "data": {
      "image/png": "[encoded data removed]",
      "text/plain": [
       "<Figure size 720x720 with 1 Axes>"
      ]
     },
     "metadata": {
      "needs_background": "light"
     },
     "output_type": "display_data"
    }
   ],
   "source": [
    "# Plot rides by day\n",
    "plt.rcParams['figure.figsize'] = (10,10)\n",
    "plt.plot(taxi_2020_by_day.Start_date, taxi_2020_by_day.Count)\n",
    "plt.ylabel('Rides')\n",
    "plt.title('The taxi traffic in Chicago dropped significantly in the end of March 2020 due to COVID-19')\n",
    "plt.show()"
   ]
  },
  {
   "cell_type": "code",
   "execution_count": 22,
   "metadata": {},
   "outputs": [
    {
     "data": {
      "image/png": "[encoded data removed]",
      "text/plain": [
       "<Figure size 720x720 with 1 Axes>"
      ]
     },
     "metadata": {
      "needs_background": "light"
     },
     "output_type": "display_data"
    }
   ],
   "source": [
    "# The same data can be presented in the format of barchart\n",
    "plt.bar(taxi_2020_by_day.Start_date, taxi_2020_by_day.Count)\n",
    "plt.title('The taxi traffic in Chicago drop significantly in the end of March 2020 due to COVID-19')\n",
    "plt.show()"
   ]
  },
  {
   "cell_type": "code",
   "execution_count": 23,
   "metadata": {},
   "outputs": [
    {
     "name": "stdout",
     "output_type": "stream",
     "text": [
      "     Start Date                        Company    0\n",
      "0    2019-12-01    1085 - 72312 N and W Cab Co    4\n",
      "1    2019-12-01     2092 - 61288 Sbeih company    5\n",
      "2    2019-12-01                  24 Seven Taxi  279\n",
      "3    2019-12-01      3011 - 66308 JBL Cab Inc.    2\n",
      "4    2019-12-01     3094 - 24059 G.L.B. Cab Co   11\n",
      "...         ...                            ...  ...\n",
      "6362 2020-05-31  Taxicab Insurance Agency, LLC   17\n",
      "6363 2020-05-31            Top Cab Affiliation   70\n",
      "6364 2020-05-31                      U Taxicab   33\n",
      "6365 2020-06-01                      Flash Cab    6\n",
      "6366 2020-06-01      Taxi Affiliation Services    4\n",
      "\n",
      "[6367 rows x 3 columns]\n"
     ]
    }
   ],
   "source": [
    "# Now let's analyze how different companies were affected during this period of time\n",
    "taxi_2020_by_day_company = taxi_2020.groupby(['Start Date', 'Company']).size().reset_index()\n",
    "print(taxi_2020_by_day_company)"
   ]
  },
  {
   "cell_type": "code",
   "execution_count": 24,
   "metadata": {},
   "outputs": [
    {
     "name": "stdout",
     "output_type": "stream",
     "text": [
      "     Start Date                        Company  Rides\n",
      "0    2019-12-01    1085 - 72312 N and W Cab Co      4\n",
      "1    2019-12-01     2092 - 61288 Sbeih company      5\n",
      "2    2019-12-01                  24 Seven Taxi    279\n",
      "3    2019-12-01      3011 - 66308 JBL Cab Inc.      2\n",
      "4    2019-12-01     3094 - 24059 G.L.B. Cab Co     11\n",
      "...         ...                            ...    ...\n",
      "6362 2020-05-31  Taxicab Insurance Agency, LLC     17\n",
      "6363 2020-05-31            Top Cab Affiliation     70\n",
      "6364 2020-05-31                      U Taxicab     33\n",
      "6365 2020-06-01                      Flash Cab      6\n",
      "6366 2020-06-01      Taxi Affiliation Services      4\n",
      "\n",
      "[6367 rows x 3 columns]\n"
     ]
    }
   ],
   "source": [
    "# Rename column 0\n",
    "taxi_2020_by_day_company = taxi_2020_by_day_company.rename(columns = {0 : 'Rides'})\n",
    "print(taxi_2020_by_day_company)"
   ]
  },
  {
   "cell_type": "code",
   "execution_count": 25,
   "metadata": {},
   "outputs": [
    {
     "data": {
      "text/plain": [
       "Taxi Affiliation Services                       184\n",
       "Flash Cab                                       184\n",
       "Chicago Taxicab                                 183\n",
       "312 Medallion Management Corp                   183\n",
       "Medallion Leasin                                183\n",
       "Sun Taxi                                        183\n",
       "Top Cab Affiliation                             183\n",
       "Taxicab Insurance Agency, LLC                   183\n",
       "Choice Taxi Association                         183\n",
       "Chicago Independents                            183\n",
       "Star North Management LLC                       183\n",
       "Setare Inc                                      183\n",
       "Patriot Taxi Dba Peace Taxi Associat            183\n",
       "Blue Ribbon Taxi Association Inc.               183\n",
       "City Service                                    182\n",
       "Suburban Dispatch LLC                           181\n",
       "Chicago Medallion Management                    178\n",
       "Metro Jet Taxi A                                174\n",
       "Nova Taxi Affiliation Llc                       169\n",
       "24 Seven Taxi                                   169\n",
       "U Taxicab                                       153\n",
       "Chicago Carriage Cab Corp                       150\n",
       "3556 - 36214 RC Andrews Cab                     147\n",
       "KOAM Taxi Association                           136\n",
       "Petani Cab Corp                                 123\n",
       "5 Star Taxi                                     118\n",
       "2733 - 74600 Benny Jona                         118\n",
       "Leonard Cab Co                                  115\n",
       "4623 - 27290 Jay Kim                            114\n",
       "2092 - 61288 Sbeih company                      107\n",
       "3094 - 24059 G.L.B. Cab Co                      106\n",
       "3011 - 66308 JBL Cab Inc.                       103\n",
       "1085 - 72312 N and W Cab Co                     101\n",
       "6743 - 78771 Luhak Corp                          93\n",
       "5874 - 73628 Sergey Cab Corp.                    90\n",
       "6574 - Babylon Express Inc.                      90\n",
       "5062 - 34841 Sam Mestas                          90\n",
       "5006 - 39261 Salifu Bawa                         83\n",
       "4053 - 40193 Adwar H. Nikola                     79\n",
       "3623 - 72222 Arrington Enterprises               78\n",
       "4787 - 56058 Reny Cab Co                         77\n",
       "Taxi Affiliation Service Yellow                  73\n",
       "6742 - 83735 Tasha ride inc                      73\n",
       "Blue Diamond                                     73\n",
       "Checker Taxi Affiliation                         65\n",
       "3620 - 52292 David K. Cab Corp.                  63\n",
       "3721 - Santamaria Express, Alvaro Santamaria     62\n",
       "3591 - 63480 Chuks Cab                           46\n",
       "4523 - 79481 Hazel Transit Inc                   20\n",
       "CMT-Sales                                         4\n",
       "Name: Company, dtype: int64"
      ]
     },
     "execution_count": 25,
     "metadata": {},
     "output_type": "execute_result"
    }
   ],
   "source": [
    "# Check all companies here\n",
    "taxi_2020_by_day_company.Company.value_counts()\n",
    "# Numbers here tell how many days companies were driving, not rides"
   ]
  },
  {
   "cell_type": "code",
   "execution_count": 26,
   "metadata": {},
   "outputs": [
    {
     "data": {
      "text/plain": [
       "50"
      ]
     },
     "execution_count": 26,
     "metadata": {},
     "output_type": "execute_result"
    }
   ],
   "source": [
    "# Calculate the number of companies\n",
    "taxi_2020_by_day_company.Company.value_counts().count()\n",
    "# As you can see, we have 50 companies"
   ]
  },
  {
   "cell_type": "code",
   "execution_count": 27,
   "metadata": {},
   "outputs": [
    {
     "name": "stdout",
     "output_type": "stream",
     "text": [
      "     Start Date                        Company  Rides\n",
      "0    2019-12-01    1085 - 72312 N and W Cab Co      4\n",
      "1    2019-12-01     2092 - 61288 Sbeih company      5\n",
      "2    2019-12-01                  24 Seven Taxi    279\n",
      "3    2019-12-01      3011 - 66308 JBL Cab Inc.      2\n",
      "4    2019-12-01     3094 - 24059 G.L.B. Cab Co     11\n",
      "...         ...                            ...    ...\n",
      "6362 2020-05-31  Taxicab Insurance Agency, LLC     17\n",
      "6363 2020-05-31            Top Cab Affiliation     70\n",
      "6364 2020-05-31                      U Taxicab     33\n",
      "6365 2020-06-01                      Flash Cab      6\n",
      "6366 2020-06-01      Taxi Affiliation Services      4\n",
      "\n",
      "[6367 rows x 3 columns]\n"
     ]
    }
   ],
   "source": [
    "# Let's group by rides now to identify the most popular companies with the biggest amount of rides\n",
    "taxi_2020_by_day_company_sum = taxi_2020_by_day_company.groupby('Company', as_index=False).agg({\"Rides\": \"sum\"}).sort_values('Rides', ascending = False)\n",
    "print(taxi_2020_by_day_company)"
   ]
  },
  {
   "cell_type": "code",
   "execution_count": 28,
   "metadata": {},
   "outputs": [
    {
     "name": "stdout",
     "output_type": "stream",
     "text": [
      "     Start Date                            Company  Rides\n",
      "18   2019-12-01  Blue Ribbon Taxi Association Inc.   1648\n",
      "20   2019-12-01          Chicago Carriage Cab Corp   3276\n",
      "24   2019-12-01            Choice Taxi Association   1011\n",
      "25   2019-12-01                       City Service   2353\n",
      "26   2019-12-01                          Flash Cab   5450\n",
      "...         ...                                ...    ...\n",
      "6360 2020-05-31                           Sun Taxi     60\n",
      "6361 2020-05-31          Taxi Affiliation Services    834\n",
      "6362 2020-05-31      Taxicab Insurance Agency, LLC     17\n",
      "6365 2020-06-01                          Flash Cab      6\n",
      "6366 2020-06-01          Taxi Affiliation Services      4\n",
      "\n",
      "[1798 rows x 3 columns]\n"
     ]
    }
   ],
   "source": [
    "# As we can see, there are 10 companies, whih had more from 1 mln to 100000 rides.\n",
    "# We need to subset these top 10 companies and identify patterns.\n",
    "top_10_companies_by_day = taxi_2020_by_day_company.loc[taxi_2020_by_day_company['Company'].\n",
    "                                                       isin(['Taxi Affiliation Services',\n",
    "                                                             'Flash Cab',\n",
    "                                                             'Chicago Carriage Cab Corp', \n",
    "                                                             'Sun Taxi',\n",
    "                                                             'City Service', \n",
    "                                                             'Medallion Leasin',\n",
    "                                                             'Star North Management LLC', \n",
    "                                                             'Blue Ribbon Taxi Association Inc.',\n",
    "                                                             'Taxicab Insurance Agency, LLC',\n",
    "                                                             'Choice Taxi Association'])]\n",
    "print(top_10_companies_by_day)"
   ]
  },
  {
   "cell_type": "code",
   "execution_count": 29,
   "metadata": {},
   "outputs": [
    {
     "name": "stdout",
     "output_type": "stream",
     "text": [
      "     Start_date                            Company  Rides\n",
      "18   2019-12-01  Blue Ribbon Taxi Association Inc.   1648\n",
      "20   2019-12-01          Chicago Carriage Cab Corp   3276\n",
      "24   2019-12-01            Choice Taxi Association   1011\n",
      "25   2019-12-01                       City Service   2353\n",
      "26   2019-12-01                          Flash Cab   5450\n",
      "...         ...                                ...    ...\n",
      "6360 2020-05-31                           Sun Taxi     60\n",
      "6361 2020-05-31          Taxi Affiliation Services    834\n",
      "6362 2020-05-31      Taxicab Insurance Agency, LLC     17\n",
      "6365 2020-06-01                          Flash Cab      6\n",
      "6366 2020-06-01          Taxi Affiliation Services      4\n",
      "\n",
      "[1798 rows x 3 columns]\n"
     ]
    }
   ],
   "source": [
    "top_10_companies_by_day = top_10_companies_by_day.rename(columns = {'Start Date': \"Start_date\"})\n",
    "print(top_10_companies_by_day)"
   ]
  },
  {
   "cell_type": "code",
   "execution_count": 30,
   "metadata": {},
   "outputs": [],
   "source": [
    "# Separate companies\n",
    "flash_cab = top_10_companies_by_day.loc[taxi_2020_by_day_company['Company'].isin(['Flash Cab'])]\n",
    "taxi_affiliation_services = top_10_companies_by_day.loc[taxi_2020_by_day_company['Company'].\n",
    "                                                        isin(['Taxi Affiliation Services'])]\n",
    "chicago_carriage_cab_corp = top_10_companies_by_day.loc[taxi_2020_by_day_company['Company'].isin(['Chicago Carriage Cab Corp'])]\n",
    "sun_taxi = top_10_companies_by_day.loc[taxi_2020_by_day_company['Company'].isin(['Sun Taxi'])]\n",
    "city_service = top_10_companies_by_day.loc[taxi_2020_by_day_company['Company'].isin(['City Service'])]"
   ]
  },
  {
   "cell_type": "code",
   "execution_count": 31,
   "metadata": {
    "scrolled": true
   },
   "outputs": [
    {
     "data": {
      "image/png": "[encoded data removed]",
      "text/plain": [
       "<Figure size 360x360 with 1 Axes>"
      ]
     },
     "metadata": {
      "needs_background": "light"
     },
     "output_type": "display_data"
    }
   ],
   "source": [
    "# Plot top 5 companies\n",
    "plt.rcParams['figure.figsize'] = (5, 5)\n",
    "plt.plot(taxi_affiliation_services.Start_date, taxi_affiliation_services.Rides, label = 'Taxi Affiliation Services')\n",
    "plt.plot(flash_cab.Start_date, flash_cab.Rides, label = 'Flash Cab')\n",
    "plt.plot(chicago_carriage_cab_corp.Start_date, chicago_carriage_cab_corp.Rides, label = 'Chicago Carriage Cab Corp')\n",
    "plt.plot(sun_taxi.Start_date, sun_taxi.Rides, label = 'Sun Taxi')\n",
    "plt.plot(city_service.Start_date, city_service.Rides, label = 'City Service')\n",
    "# plt.title('Top 5 taxi companies in Chicago faced a dramatic drop of traffic due to COVID-19')\n",
    "plt.ylabel('Rides')\n",
    "plt.xticks(rotation = 45)\n",
    "plt.legend()\n",
    "plt.show()\n",
    "# The interesting point that Flash Cab became the most popular company since COVID started, \n",
    "# beating Chicago Affiliation Services, which previous had 40% market advantage. \n",
    "# It looks like Flash Cab anticrisis handles are a bit better. "
   ]
  },
  {
   "cell_type": "markdown",
   "metadata": {},
   "source": [
    "### 2. Exploring the changes in rides behavior (duration, hours, distance) before and After COVID-19"
   ]
  },
  {
   "cell_type": "code",
   "execution_count": 32,
   "metadata": {},
   "outputs": [
    {
     "name": "stdout",
     "output_type": "stream",
     "text": [
      "                                             Taxi ID Trip Start Timestamp  \\\n",
      "0  bbf91e67201de7487dbeb23021a9a741e36d8d65175def...  2019-12-01 00:15:00   \n",
      "1  b83ba3da1a4bc2a686d885ec2f802c3f256c518d93816c...  2019-12-01 00:15:00   \n",
      "2  53c01ec83313fee495650d2294b7c88ade2f3d82f3acd0...  2019-12-01 00:15:00   \n",
      "3  ef5e9c8f0da412a5961a77ad3da965c641e08eb1ddd19f...  2019-12-01 00:15:00   \n",
      "4  71cf25528ebc98e11ac91a5d359776a91874e7f6047cb8...  2019-12-01 00:15:00   \n",
      "\n",
      "   Trip End Timestamp  Trip Seconds  Trip Miles  Pickup Census Tract  \\\n",
      "0 2019-12-01 00:30:00         600.0         0.1         1.703184e+10   \n",
      "1 2019-12-01 00:15:00         180.0         0.0                  NaN   \n",
      "2 2019-12-01 00:30:00         380.0         1.2                  NaN   \n",
      "3 2019-12-01 00:30:00         780.0         2.0         1.703184e+10   \n",
      "4 2019-12-01 00:30:00         720.0         3.1         1.703128e+10   \n",
      "\n",
      "   Dropoff Census Tract  Pickup Community Area  Dropoff Community Area   Fare  \\\n",
      "0          1.703108e+10                   32.0                     8.0   8.75   \n",
      "1                   NaN                    7.0                     6.0   5.00   \n",
      "2                   NaN                   14.0                    16.0   6.25   \n",
      "3          1.703108e+10                   32.0                     8.0   9.25   \n",
      "4          1.703107e+10                   28.0                     7.0  11.50   \n",
      "\n",
      "   ...  Pickup Centroid Latitude  Pickup Centroid Longitude  \\\n",
      "0  ...                    41.881                 -87.632746   \n",
      "1  ...                   41.9227                 -87.649489   \n",
      "2  ...                   41.9681                 -87.721559   \n",
      "3  ...                    41.881                 -87.632746   \n",
      "4  ...                   41.8793                 -87.642649   \n",
      "\n",
      "               Pickup Centroid Location  Dropoff Centroid Latitude  \\\n",
      "0  POINT (-87.6327464887 41.8809944707)                  41.899156   \n",
      "1  POINT (-87.6494887289 41.9226862843)                  41.944227   \n",
      "2      POINT (-87.7215590627 41.968069)                  41.953582   \n",
      "3  POINT (-87.6327464887 41.8809944707)                  41.899156   \n",
      "4   POINT (-87.642648998 41.8792550844)                  41.922083   \n",
      "\n",
      "  Dropoff Centroid Longitude            Dropoff Centroid  Location Start Date  \\\n",
      "0                 -87.626211  POINT (-87.6262105324 41.8991556134) 2019-12-01   \n",
      "1                 -87.655998  POINT (-87.6559981815 41.9442266014) 2019-12-01   \n",
      "2                 -87.723452  POINT (-87.7234523905 41.9535821253) 2019-12-01   \n",
      "3                 -87.626211  POINT (-87.6262105324 41.8991556134) 2019-12-01   \n",
      "4                 -87.634156   POINT (-87.6341560931 41.922082541) 2019-12-01   \n",
      "\n",
      "   Start Time   End Date  End Time  \n",
      "0    00:15:00 2019-12-01  00:30:00  \n",
      "1    00:15:00 2019-12-01  00:15:00  \n",
      "2    00:15:00 2019-12-01  00:30:00  \n",
      "3    00:15:00 2019-12-01  00:30:00  \n",
      "4    00:15:00 2019-12-01  00:30:00  \n",
      "\n",
      "[5 rows x 26 columns]\n"
     ]
    }
   ],
   "source": [
    "# Let's print the initial dataframe first\n",
    "print(taxi_2020.head())"
   ]
  },
  {
   "cell_type": "code",
   "execution_count": 33,
   "metadata": {},
   "outputs": [
    {
     "data": {
      "text/plain": [
       "Taxi ID                               object\n",
       "Trip Start Timestamp          datetime64[ns]\n",
       "Trip End Timestamp            datetime64[ns]\n",
       "Trip Seconds                         float64\n",
       "Trip Miles                           float64\n",
       "Pickup Census Tract                  float64\n",
       "Dropoff Census Tract                 float64\n",
       "Pickup Community Area                float64\n",
       "Dropoff Community Area               float64\n",
       "Fare                                 float64\n",
       "Tips                                 float64\n",
       "Tolls                                float64\n",
       "Extras                               float64\n",
       "Trip Total                           float64\n",
       "Payment Type                          object\n",
       "Company                               object\n",
       "Pickup Centroid Latitude              object\n",
       "Pickup Centroid Longitude            float64\n",
       "Pickup Centroid Location              object\n",
       "Dropoff Centroid Latitude            float64\n",
       "Dropoff Centroid Longitude           float64\n",
       "Dropoff Centroid  Location            object\n",
       "Start Date                    datetime64[ns]\n",
       "Start Time                            object\n",
       "End Date                      datetime64[ns]\n",
       "End Time                              object\n",
       "dtype: object"
      ]
     },
     "execution_count": 33,
     "metadata": {},
     "output_type": "execute_result"
    }
   ],
   "source": [
    "# And double check again the types of the columns\n",
    "taxi_2020.dtypes\n",
    "# As you can see, Start Date remains the datetime type."
   ]
  },
  {
   "cell_type": "code",
   "execution_count": 34,
   "metadata": {},
   "outputs": [
    {
     "name": "stdout",
     "output_type": "stream",
     "text": [
      "        Start Date  Trip Seconds\n",
      "0       2019-12-01         600.0\n",
      "1       2019-12-01         180.0\n",
      "2       2019-12-01         380.0\n",
      "3       2019-12-01         780.0\n",
      "4       2019-12-01         720.0\n",
      "...            ...           ...\n",
      "4137289 2020-06-01        1080.0\n",
      "4137290 2020-06-01          35.0\n",
      "4137291 2020-06-01         556.0\n",
      "4137292 2020-06-01         480.0\n",
      "4137293 2020-06-01         300.0\n",
      "\n",
      "[4137294 rows x 2 columns]\n"
     ]
    }
   ],
   "source": [
    "# let's find if the duration of trips changed. Maybe clients started to use taxis for different purposes?\n",
    "duration = taxi_2020[['Start Date','Trip Seconds']]\n",
    "print(duration)"
   ]
  },
  {
   "cell_type": "code",
   "execution_count": 35,
   "metadata": {},
   "outputs": [
    {
     "name": "stdout",
     "output_type": "stream",
     "text": [
      "    Start Date  Trip Seconds\n",
      "0   2019-12-01   1024.181542\n",
      "1   2019-12-02    892.024116\n",
      "2   2019-12-03    844.335562\n",
      "3   2019-12-04    923.672729\n",
      "4   2019-12-05    978.543716\n",
      "..         ...           ...\n",
      "179 2020-05-28    970.165624\n",
      "180 2020-05-29   1043.809222\n",
      "181 2020-05-30   1171.479933\n",
      "182 2020-05-31   1165.951500\n",
      "183 2020-06-01    675.800000\n",
      "\n",
      "[184 rows x 2 columns]\n"
     ]
    }
   ],
   "source": [
    "# Now let's group the infomation here\n",
    "duration_by_day = duration.groupby('Start Date', as_index=False).agg({\"Trip Seconds\": \"mean\"})\n",
    "print(duration_by_day)"
   ]
  },
  {
   "cell_type": "code",
   "execution_count": 36,
   "metadata": {},
   "outputs": [
    {
     "name": "stdout",
     "output_type": "stream",
     "text": [
      "    Start Date  Trip Seconds\n",
      "0   2019-12-01        1024.0\n",
      "1   2019-12-02         892.0\n",
      "2   2019-12-03         844.0\n",
      "3   2019-12-04         924.0\n",
      "4   2019-12-05         979.0\n",
      "..         ...           ...\n",
      "179 2020-05-28         970.0\n",
      "180 2020-05-29        1044.0\n",
      "181 2020-05-30        1171.0\n",
      "182 2020-05-31        1166.0\n",
      "183 2020-06-01         676.0\n",
      "\n",
      "[184 rows x 2 columns]\n"
     ]
    }
   ],
   "source": [
    "# As we can see, our trips are not rounded, let's do it\n",
    "duration_by_day = duration_by_day.round()\n",
    "print(duration_by_day)"
   ]
  },
  {
   "cell_type": "code",
   "execution_count": 37,
   "metadata": {},
   "outputs": [
    {
     "name": "stdout",
     "output_type": "stream",
     "text": [
      "    Start_date  Seconds\n",
      "0   2019-12-01   1024.0\n",
      "1   2019-12-02    892.0\n",
      "2   2019-12-03    844.0\n",
      "3   2019-12-04    924.0\n",
      "4   2019-12-05    979.0\n",
      "..         ...      ...\n",
      "179 2020-05-28    970.0\n",
      "180 2020-05-29   1044.0\n",
      "181 2020-05-30   1171.0\n",
      "182 2020-05-31   1166.0\n",
      "183 2020-06-01    676.0\n",
      "\n",
      "[184 rows x 2 columns]\n"
     ]
    }
   ],
   "source": [
    "# Also let's rename the column names\n",
    "duration_by_day = duration_by_day.rename(columns = {'Start Date': 'Start_date', 'Trip Seconds': 'Seconds'})\n",
    "print(duration_by_day)"
   ]
  },
  {
   "cell_type": "code",
   "execution_count": 38,
   "metadata": {},
   "outputs": [
    {
     "data": {
      "image/png": "[encoded data removed]",
      "text/plain": [
       "<Figure size 720x720 with 1 Axes>"
      ]
     },
     "metadata": {
      "needs_background": "light"
     },
     "output_type": "display_data"
    }
   ],
   "source": [
    "# Average duration of a trip by day\n",
    "plt.rcParams['figure.figsize'] = (10,10)\n",
    "plt.plot(duration_by_day.Start_date, duration_by_day.Seconds)\n",
    "plt.ylabel('Seconds')\n",
    "# plt.title('The average duration of a taxi trip (in seconds) changed after COVID-19')\n",
    "plt.show()\n",
    "# As we can, see the behavior of customers changed. Now they make longer trips (also keep the lighter traffic in mind).\n",
    "# The average trip in seconds increased approximately by 3 minutes (about 200 seconds. )"
   ]
  },
  {
   "cell_type": "code",
   "execution_count": 39,
   "metadata": {},
   "outputs": [
    {
     "name": "stdout",
     "output_type": "stream",
     "text": [
      "        Start Date  Trip Miles\n",
      "0       2019-12-01        0.10\n",
      "1       2019-12-01        0.00\n",
      "2       2019-12-01        1.20\n",
      "3       2019-12-01        2.00\n",
      "4       2019-12-01        3.10\n",
      "...            ...         ...\n",
      "4137289 2020-06-01       14.00\n",
      "4137290 2020-06-01        0.00\n",
      "4137291 2020-06-01        0.55\n",
      "4137292 2020-06-01        0.10\n",
      "4137293 2020-06-01        0.00\n",
      "\n",
      "[4137294 rows x 2 columns]\n"
     ]
    }
   ],
   "source": [
    "# Now we can test our hypothesis that the milleage of an average taxi trip increased.\n",
    "mileage = taxi_2020[['Start Date','Trip Miles']]\n",
    "print(mileage)"
   ]
  },
  {
   "cell_type": "code",
   "execution_count": 40,
   "metadata": {},
   "outputs": [
    {
     "name": "stdout",
     "output_type": "stream",
     "text": [
      "    Start Date  Trip Miles\n",
      "0   2019-12-01    5.208241\n",
      "1   2019-12-02    3.845584\n",
      "2   2019-12-03    3.354167\n",
      "3   2019-12-04    3.636845\n",
      "4   2019-12-05    3.817315\n",
      "..         ...         ...\n",
      "179 2020-05-28    3.886781\n",
      "180 2020-05-29    4.071920\n",
      "181 2020-05-30    4.301445\n",
      "182 2020-05-31    5.447486\n",
      "183 2020-06-01    3.821000\n",
      "\n",
      "[184 rows x 2 columns]\n"
     ]
    }
   ],
   "source": [
    "# Now let's group the infomation here\n",
    "mileage_by_day = mileage.groupby('Start Date', as_index = False).agg({\"Trip Miles\": \"mean\"})\n",
    "print(mileage_by_day)"
   ]
  },
  {
   "cell_type": "code",
   "execution_count": 41,
   "metadata": {},
   "outputs": [
    {
     "name": "stdout",
     "output_type": "stream",
     "text": [
      "    Start_date     Miles\n",
      "0   2019-12-01  5.208241\n",
      "1   2019-12-02  3.845584\n",
      "2   2019-12-03  3.354167\n",
      "3   2019-12-04  3.636845\n",
      "4   2019-12-05  3.817315\n",
      "..         ...       ...\n",
      "179 2020-05-28  3.886781\n",
      "180 2020-05-29  4.071920\n",
      "181 2020-05-30  4.301445\n",
      "182 2020-05-31  5.447486\n",
      "183 2020-06-01  3.821000\n",
      "\n",
      "[184 rows x 2 columns]\n"
     ]
    }
   ],
   "source": [
    "# Also let's rename the column names, should have done this in the beginning\n",
    "mileage_by_day = mileage_by_day.rename(columns = {'Start Date': 'Start_date', 'Trip Miles': 'Miles'})\n",
    "print(mileage_by_day)"
   ]
  },
  {
   "cell_type": "code",
   "execution_count": 42,
   "metadata": {},
   "outputs": [
    {
     "data": {
      "image/png": "[encoded data removed]",
      "text/plain": [
       "<Figure size 720x720 with 1 Axes>"
      ]
     },
     "metadata": {
      "needs_background": "light"
     },
     "output_type": "display_data"
    }
   ],
   "source": [
    "# Average milleage of a trip by day\n",
    "plt.rcParams['figure.figsize'] = (10,10)\n",
    "plt.plot(mileage_by_day.Start_date, mileage_by_day.Miles)\n",
    "plt.ylabel(\"Miles\")\n",
    "# plt.title('The average mileage of a taxi trip (in miles) changed after COVID-19')\n",
    "plt.show()\n",
    "# As we can see, an average milage of a trip also increased for about 1 mile"
   ]
  },
  {
   "cell_type": "code",
   "execution_count": 43,
   "metadata": {},
   "outputs": [
    {
     "name": "stdout",
     "output_type": "stream",
     "text": [
      "        Time  Rides\n",
      "0   00:00:00  24005\n",
      "1   00:15:00  22815\n",
      "2   00:30:00  20438\n",
      "3   00:45:00  19012\n",
      "4   01:00:00  18082\n",
      "..       ...    ...\n",
      "91  22:45:00  32365\n",
      "92  23:00:00  31815\n",
      "93  23:15:00  29582\n",
      "94  23:30:00  26903\n",
      "95  23:45:00  24599\n",
      "\n",
      "[96 rows x 2 columns]\n"
     ]
    }
   ],
   "source": [
    "# Now let' explore the trend by hours\n",
    "# Select the column\n",
    "rides_by_hour = taxi_2020['Start Time']\n",
    "# Count \n",
    "rides_by_hour = rides_by_hour.value_counts().sort_index().reset_index()\n",
    "# Rename columns\n",
    "rides_by_hour = rides_by_hour.rename(columns = {'index': \"Time\", 'Start Time': 'Rides'})\n",
    "print(rides_by_hour)"
   ]
  },
  {
   "cell_type": "code",
   "execution_count": 44,
   "metadata": {},
   "outputs": [
    {
     "data": {
      "text/plain": [
       "Time     object\n",
       "Rides     int64\n",
       "dtype: object"
      ]
     },
     "execution_count": 44,
     "metadata": {},
     "output_type": "execute_result"
    }
   ],
   "source": [
    "# Check types of columns\n",
    "rides_by_hour.dtypes"
   ]
  },
  {
   "cell_type": "code",
   "execution_count": 45,
   "metadata": {
    "scrolled": true
   },
   "outputs": [
    {
     "data": {
      "text/html": [
       "<div>\n",
       "<style scoped>\n",
       "    .dataframe tbody tr th:only-of-type {\n",
       "        vertical-align: middle;\n",
       "    }\n",
       "\n",
       "    .dataframe tbody tr th {\n",
       "        vertical-align: top;\n",
       "    }\n",
       "\n",
       "    .dataframe thead th {\n",
       "        text-align: right;\n",
       "    }\n",
       "</style>\n",
       "<table border=\"1\" class=\"dataframe\">\n",
       "  <thead>\n",
       "    <tr style=\"text-align: right;\">\n",
       "      <th></th>\n",
       "      <th>Time</th>\n",
       "      <th>Rides</th>\n",
       "      <th>hour</th>\n",
       "    </tr>\n",
       "  </thead>\n",
       "  <tbody>\n",
       "    <tr>\n",
       "      <td>0</td>\n",
       "      <td>00:00:00</td>\n",
       "      <td>24005</td>\n",
       "      <td>0</td>\n",
       "    </tr>\n",
       "    <tr>\n",
       "      <td>1</td>\n",
       "      <td>00:15:00</td>\n",
       "      <td>22815</td>\n",
       "      <td>0</td>\n",
       "    </tr>\n",
       "    <tr>\n",
       "      <td>2</td>\n",
       "      <td>00:30:00</td>\n",
       "      <td>20438</td>\n",
       "      <td>0</td>\n",
       "    </tr>\n",
       "    <tr>\n",
       "      <td>3</td>\n",
       "      <td>00:45:00</td>\n",
       "      <td>19012</td>\n",
       "      <td>0</td>\n",
       "    </tr>\n",
       "    <tr>\n",
       "      <td>4</td>\n",
       "      <td>01:00:00</td>\n",
       "      <td>18082</td>\n",
       "      <td>1</td>\n",
       "    </tr>\n",
       "    <tr>\n",
       "      <td>...</td>\n",
       "      <td>...</td>\n",
       "      <td>...</td>\n",
       "      <td>...</td>\n",
       "    </tr>\n",
       "    <tr>\n",
       "      <td>91</td>\n",
       "      <td>22:45:00</td>\n",
       "      <td>32365</td>\n",
       "      <td>22</td>\n",
       "    </tr>\n",
       "    <tr>\n",
       "      <td>92</td>\n",
       "      <td>23:00:00</td>\n",
       "      <td>31815</td>\n",
       "      <td>23</td>\n",
       "    </tr>\n",
       "    <tr>\n",
       "      <td>93</td>\n",
       "      <td>23:15:00</td>\n",
       "      <td>29582</td>\n",
       "      <td>23</td>\n",
       "    </tr>\n",
       "    <tr>\n",
       "      <td>94</td>\n",
       "      <td>23:30:00</td>\n",
       "      <td>26903</td>\n",
       "      <td>23</td>\n",
       "    </tr>\n",
       "    <tr>\n",
       "      <td>95</td>\n",
       "      <td>23:45:00</td>\n",
       "      <td>24599</td>\n",
       "      <td>23</td>\n",
       "    </tr>\n",
       "  </tbody>\n",
       "</table>\n",
       "<p>96 rows × 3 columns</p>\n",
       "</div>"
      ],
      "text/plain": [
       "        Time  Rides  hour\n",
       "0   00:00:00  24005     0\n",
       "1   00:15:00  22815     0\n",
       "2   00:30:00  20438     0\n",
       "3   00:45:00  19012     0\n",
       "4   01:00:00  18082     1\n",
       "..       ...    ...   ...\n",
       "91  22:45:00  32365    22\n",
       "92  23:00:00  31815    23\n",
       "93  23:15:00  29582    23\n",
       "94  23:30:00  26903    23\n",
       "95  23:45:00  24599    23\n",
       "\n",
       "[96 rows x 3 columns]"
      ]
     },
     "execution_count": 45,
     "metadata": {},
     "output_type": "execute_result"
    }
   ],
   "source": [
    "rides_by_hour['hour'] = pd.to_datetime(rides_by_hour['Time'], format = '%H:%M:%S').dt.hour\n",
    "rides_by_hour"
   ]
  },
  {
   "cell_type": "code",
   "execution_count": 46,
   "metadata": {},
   "outputs": [
    {
     "name": "stdout",
     "output_type": "stream",
     "text": [
      "    hour   Rides\n",
      "0      0   86270\n",
      "1      1   68432\n",
      "2      2   53376\n",
      "3      3   42701\n",
      "4      4   34938\n",
      "5      5   34592\n",
      "6      6   55747\n",
      "7      7  118599\n",
      "8      8  191586\n",
      "9      9  216739\n",
      "10    10  206382\n",
      "11    11  222586\n",
      "12    12  243562\n",
      "13    13  251466\n",
      "14    14  253326\n",
      "15    15  260180\n",
      "16    16  285952\n",
      "17    17  310775\n",
      "18    18  299606\n",
      "19    19  258616\n",
      "20    20  210621\n",
      "21    21  173804\n",
      "22    22  144425\n",
      "23    23  112899\n"
     ]
    }
   ],
   "source": [
    "rides_by_hour = rides_by_hour.groupby('hour', as_index=False).agg({\"Rides\": \"sum\"})\n",
    "print(rides_by_hour)"
   ]
  },
  {
   "cell_type": "code",
   "execution_count": 47,
   "metadata": {},
   "outputs": [
    {
     "data": {
      "image/png": "[encoded data removed]",
      "text/plain": [
       "<Figure size 720x720 with 1 Axes>"
      ]
     },
     "metadata": {
      "needs_background": "light"
     },
     "output_type": "display_data"
    }
   ],
   "source": [
    "# Now let's create a a barplot\n",
    "fig = plt.figure()\n",
    "ax = fig.add_axes([0,0,1,1])\n",
    "ax.bar(rides_by_hour.hour, rides_by_hour.Rides)\n",
    "plt.xticks(rides_by_hour.hour)\n",
    "plt.title('Chicago taxi rides by hour (December 2019 - June 2020)')\n",
    "plt.show()"
   ]
  },
  {
   "cell_type": "code",
   "execution_count": 48,
   "metadata": {},
   "outputs": [],
   "source": [
    "# Now let's compare information from two time periods\n",
    "# First, I will cut information from December 2019 to March 2020 and from April 2020 to mid-June-2020\n",
    "taxi1 = taxi_2020[(taxi_2020['Start Date'] > '2019-12-01') & (taxi_2020['Start Date'] <= '2020-03-20')]\n",
    "# taxi2 = taxi_2020[(taxi_2020['Start Date'] > '2020-03-21') & (taxi_2020['Start Date'] <= '2020-06-15')]"
   ]
  },
  {
   "cell_type": "code",
   "execution_count": 49,
   "metadata": {},
   "outputs": [],
   "source": [
    "# Run them separately to avoid errors\n",
    "taxi2 = taxi_2020[(taxi_2020['Start Date'] > '2020-03-21') & (taxi_2020['Start Date'] <= '2020-06-15')]"
   ]
  },
  {
   "cell_type": "code",
   "execution_count": 83,
   "metadata": {},
   "outputs": [
    {
     "name": "stdout",
     "output_type": "stream",
     "text": [
      "Taxi ID                               object\n",
      "Trip Start Timestamp          datetime64[ns]\n",
      "Trip End Timestamp            datetime64[ns]\n",
      "Trip Seconds                         float64\n",
      "Trip Miles                           float64\n",
      "Pickup Census Tract                  float64\n",
      "Dropoff Census Tract                 float64\n",
      "Pickup Community Area                float64\n",
      "Dropoff Community Area               float64\n",
      "Fare                                 float64\n",
      "Tips                                 float64\n",
      "Tolls                                float64\n",
      "Extras                               float64\n",
      "Trip Total                           float64\n",
      "Payment Type                          object\n",
      "Company                               object\n",
      "Pickup Centroid Latitude              object\n",
      "Pickup Centroid Longitude            float64\n",
      "Pickup Centroid Location              object\n",
      "Dropoff Centroid Latitude            float64\n",
      "Dropoff Centroid Longitude           float64\n",
      "Dropoff Centroid  Location            object\n",
      "Start Date                    datetime64[ns]\n",
      "Start Time                            object\n",
      "End Date                      datetime64[ns]\n",
      "End Time                              object\n",
      "dtype: object\n"
     ]
    }
   ],
   "source": [
    "print(taxi1.dtypes)"
   ]
  },
  {
   "cell_type": "code",
   "execution_count": 79,
   "metadata": {},
   "outputs": [
    {
     "name": "stdout",
     "output_type": "stream",
     "text": [
      "14.852776306706234\n",
      "15.789325468396694\n"
     ]
    }
   ],
   "source": [
    "# Calculate means of fare for both datasets\n",
    "print(taxi1['Fare'].mean())\n",
    "print(taxi2['Fare'].mean())"
   ]
  },
  {
   "cell_type": "code",
   "execution_count": 84,
   "metadata": {},
   "outputs": [
    {
     "name": "stdout",
     "output_type": "stream",
     "text": [
      "3.338559613442714\n",
      "4.052790107671455\n"
     ]
    }
   ],
   "source": [
    "# Calculate means of miles for both datasets\n",
    "print(taxi1['Trip Miles'].mean())\n",
    "print(taxi2['Trip Miles'].mean())"
   ]
  },
  {
   "cell_type": "code",
   "execution_count": 85,
   "metadata": {},
   "outputs": [
    {
     "name": "stdout",
     "output_type": "stream",
     "text": [
      "820.159106737757\n",
      "915.7302699388982\n"
     ]
    }
   ],
   "source": [
    "# Calculate means of seconds for both datasets\n",
    "print(taxi1['Trip Seconds'].mean())\n",
    "print(taxi2['Trip Seconds'].mean())"
   ]
  },
  {
   "cell_type": "code",
   "execution_count": 86,
   "metadata": {},
   "outputs": [
    {
     "name": "stdout",
     "output_type": "stream",
     "text": [
      "1.7153906782981079\n",
      "0.5151267901367548\n"
     ]
    }
   ],
   "source": [
    "# Calculate means of fare for both datasets\n",
    "print(taxi1['Tips'].mean())\n",
    "print(taxi2['Tips'].mean())"
   ]
  },
  {
   "cell_type": "code",
   "execution_count": 50,
   "metadata": {},
   "outputs": [
    {
     "name": "stdout",
     "output_type": "stream",
     "text": [
      "                                                 Taxi ID Trip Start Timestamp  \\\n",
      "33571  df20a533d377315e42c36444c2dd760936f6742427dbd8...           2019-12-02   \n",
      "33572  7bc990a07a5c8b53e6b1e2a92df55a40ac664b828d6f57...           2019-12-02   \n",
      "33573  9e36bbce1658ed60bd457bb2187c3a1ed4f47714110ac4...           2019-12-02   \n",
      "33574  0574d247700e50d1fb996084c8b1c649bf57effe419a6d...           2019-12-02   \n",
      "33575  6bc3520aa3e5055fdd502ad4db2b419e40a2579182d817...           2019-12-02   \n",
      "\n",
      "       Trip End Timestamp  Trip Seconds  Trip Miles  Pickup Census Tract  \\\n",
      "33571 2019-12-02 00:15:00         509.0        4.43         1.703198e+10   \n",
      "33572 2019-12-02 00:15:00         780.0        2.00         1.703183e+10   \n",
      "33573 2019-12-02 00:30:00        1920.0       14.40                  NaN   \n",
      "33574 2019-12-02 00:30:00        1463.0       17.86         1.703198e+10   \n",
      "33575 2019-12-02 00:15:00         774.0        3.34                  NaN   \n",
      "\n",
      "       Dropoff Census Tract  Pickup Community Area  Dropoff Community Area  \\\n",
      "33571          1.703198e+10                   76.0                    76.0   \n",
      "33572          1.703108e+10                   28.0                     8.0   \n",
      "33573                   NaN                    8.0                    77.0   \n",
      "33574          1.703108e+10                   76.0                     8.0   \n",
      "33575                   NaN                    8.0                    33.0   \n",
      "\n",
      "        Fare  ...  Pickup Centroid Latitude  Pickup Centroid Longitude  \\\n",
      "33571  13.50  ...                   41.9791                 -87.903040   \n",
      "33572   9.75  ...                   41.8853                 -87.657233   \n",
      "33573  37.25  ...                   41.8996                 -87.633308   \n",
      "33574  44.25  ...                   41.9791                 -87.903040   \n",
      "33575  12.00  ...                   41.8996                 -87.633308   \n",
      "\n",
      "                   Pickup Centroid Location  Dropoff Centroid Latitude  \\\n",
      "33571  POINT (-87.9030396611 41.9790708201)                  41.979071   \n",
      "33572  POINT (-87.6572331997 41.8852813201)                  41.899156   \n",
      "33573   POINT (-87.6333080367 41.899602111)                  41.986712   \n",
      "33574  POINT (-87.9030396611 41.9790708201)                  41.895033   \n",
      "33575   POINT (-87.6333080367 41.899602111)                  41.857184   \n",
      "\n",
      "      Dropoff Centroid Longitude            Dropoff Centroid  Location  \\\n",
      "33571                 -87.903040  POINT (-87.9030396611 41.9790708201)   \n",
      "33572                 -87.626211  POINT (-87.6262105324 41.8991556134)   \n",
      "33573                 -87.663416  POINT (-87.6634164054 41.9867117999)   \n",
      "33574                 -87.619711  POINT (-87.6197106717 41.8950334495)   \n",
      "33575                 -87.620335  POINT (-87.6203346241 41.8571838585)   \n",
      "\n",
      "      Start Date  Start Time   End Date  End Time  \n",
      "33571 2019-12-02    00:00:00 2019-12-02  00:15:00  \n",
      "33572 2019-12-02    00:00:00 2019-12-02  00:15:00  \n",
      "33573 2019-12-02    00:00:00 2019-12-02  00:30:00  \n",
      "33574 2019-12-02    00:00:00 2019-12-02  00:30:00  \n",
      "33575 2019-12-02    00:00:00 2019-12-02  00:15:00  \n",
      "\n",
      "[5 rows x 26 columns]\n",
      "                                                   Taxi ID  \\\n",
      "3988694  314f48fcaf3556a8f1c5a32b497057bb479a7afded63d2...   \n",
      "3988695  e88bf49a9bb5b04a354628076eed4fcffc39fc2632a5bb...   \n",
      "3988696  93816bb2c2c7ea5d8c849cb02fc6fd3fac15aa07d8be71...   \n",
      "3988697  96a96f52dbf30dc4376ecdb36a6bb955e242a3e2a281c1...   \n",
      "3988698  70bca78835e8e92b04b46d111508f56c7b847abad90561...   \n",
      "\n",
      "        Trip Start Timestamp  Trip End Timestamp  Trip Seconds  Trip Miles  \\\n",
      "3988694           2020-03-22 2020-03-22 00:30:00        1727.0        9.78   \n",
      "3988695           2020-03-22 2020-03-22 00:30:00        1059.0       10.24   \n",
      "3988696           2020-03-22 2020-03-22 00:15:00         639.0        2.69   \n",
      "3988697           2020-03-22 2020-03-22 00:15:00        1171.0        1.94   \n",
      "3988698           2020-03-22 2020-03-22 00:30:00        1500.0       15.00   \n",
      "\n",
      "         Pickup Census Tract  Dropoff Census Tract  Pickup Community Area  \\\n",
      "3988694                  NaN                   NaN                   14.0   \n",
      "3988695                  NaN                   NaN                   32.0   \n",
      "3988696                  NaN                   NaN                   33.0   \n",
      "3988697                  NaN                   NaN                    8.0   \n",
      "3988698                  NaN                   NaN                   76.0   \n",
      "\n",
      "         Dropoff Community Area   Fare  ...  Pickup Centroid Latitude  \\\n",
      "3988694                    28.0  26.50  ...                   41.9681   \n",
      "3988695                    69.0  27.25  ...                   41.8789   \n",
      "3988696                     8.0  10.50  ...                   41.8572   \n",
      "3988697                     8.0  11.75  ...                   41.8996   \n",
      "3988698                     NaN  38.25  ...                   41.9803   \n",
      "\n",
      "         Pickup Centroid Longitude              Pickup Centroid Location  \\\n",
      "3988694                 -87.721559      POINT (-87.7215590627 41.968069)   \n",
      "3988695                 -87.625192  POINT (-87.6251921424 41.8788655841)   \n",
      "3988696                 -87.620335  POINT (-87.6203346241 41.8571838585)   \n",
      "3988697                 -87.633308   POINT (-87.6333080367 41.899602111)   \n",
      "3988698                 -87.913625   POINT (-87.913624596 41.9802643146)   \n",
      "\n",
      "         Dropoff Centroid Latitude Dropoff Centroid Longitude  \\\n",
      "3988694                  41.874005                 -87.663518   \n",
      "3988695                  41.763247                 -87.616134   \n",
      "3988696                  41.899602                 -87.633308   \n",
      "3988697                  41.899602                 -87.633308   \n",
      "3988698                        NaN                        NaN   \n",
      "\n",
      "                   Dropoff Centroid  Location Start Date  Start Time  \\\n",
      "3988694   POINT (-87.6635175498 41.874005383) 2020-03-22    00:00:00   \n",
      "3988695  POINT (-87.6161341112 41.7632467988) 2020-03-22    00:00:00   \n",
      "3988696   POINT (-87.6333080367 41.899602111) 2020-03-22    00:00:00   \n",
      "3988697   POINT (-87.6333080367 41.899602111) 2020-03-22    00:00:00   \n",
      "3988698                                   NaN 2020-03-22    00:00:00   \n",
      "\n",
      "          End Date  End Time  \n",
      "3988694 2020-03-22  00:30:00  \n",
      "3988695 2020-03-22  00:30:00  \n",
      "3988696 2020-03-22  00:15:00  \n",
      "3988697 2020-03-22  00:15:00  \n",
      "3988698 2020-03-22  00:30:00  \n",
      "\n",
      "[5 rows x 26 columns]\n"
     ]
    }
   ],
   "source": [
    "# Check data\n",
    "print(taxi1.head()) \n",
    "print(taxi2.head()) "
   ]
  },
  {
   "cell_type": "code",
   "execution_count": 51,
   "metadata": {},
   "outputs": [
    {
     "name": "stdout",
     "output_type": "stream",
     "text": [
      "        Time  Rides\n",
      "0   00:00:00  23203\n",
      "1   00:15:00  21847\n",
      "2   00:30:00  19565\n",
      "3   00:45:00  18186\n",
      "4   01:00:00  17387\n",
      "..       ...    ...\n",
      "91  22:45:00  31011\n",
      "92  23:00:00  30457\n",
      "93  23:15:00  28394\n",
      "94  23:30:00  25729\n",
      "95  23:45:00  23569\n",
      "\n",
      "[96 rows x 2 columns]\n",
      "        Time  Rides\n",
      "0   00:00:00    776\n",
      "1   00:15:00    613\n",
      "2   00:30:00    519\n",
      "3   00:45:00    477\n",
      "4   01:00:00    384\n",
      "..       ...    ...\n",
      "91  22:45:00    931\n",
      "92  23:00:00   1012\n",
      "93  23:15:00    833\n",
      "94  23:30:00    823\n",
      "95  23:45:00    714\n",
      "\n",
      "[96 rows x 2 columns]\n"
     ]
    }
   ],
   "source": [
    "# Now let's do the same in terms of hours for each dataset, we want to compare them.\n",
    "# Let's explore the information for the first dataset\n",
    "# Select the column\n",
    "rides_by_hour1 = taxi1['Start Time']\n",
    "# Count \n",
    "rides_by_hour1 = rides_by_hour1.value_counts().sort_index().reset_index()\n",
    "# Rename columns\n",
    "rides_by_hour1 = rides_by_hour1.rename(columns = {'index': \"Time\", 'Start Time': 'Rides'})\n",
    "print(rides_by_hour1)\n",
    "\n",
    "# And do the same for the second dataset\n",
    "rides_by_hour2 = taxi2['Start Time']\n",
    "# Count \n",
    "rides_by_hour2 = rides_by_hour2.value_counts().sort_index().reset_index()\n",
    "# Rename columns\n",
    "rides_by_hour2 = rides_by_hour2.rename(columns = {'index': \"Time\", 'Start Time': 'Rides'})\n",
    "print(rides_by_hour2)"
   ]
  },
  {
   "cell_type": "code",
   "execution_count": 53,
   "metadata": {},
   "outputs": [
    {
     "name": "stdout",
     "output_type": "stream",
     "text": [
      "        Time  Rides  hour\n",
      "0   00:00:00  23203     0\n",
      "1   00:15:00  21847     0\n",
      "2   00:30:00  19565     0\n",
      "3   00:45:00  18186     0\n",
      "4   01:00:00  17387     1\n",
      "..       ...    ...   ...\n",
      "91  22:45:00  31011    22\n",
      "92  23:00:00  30457    23\n",
      "93  23:15:00  28394    23\n",
      "94  23:30:00  25729    23\n",
      "95  23:45:00  23569    23\n",
      "\n",
      "[96 rows x 3 columns]\n",
      "        Time  Rides  hour\n",
      "0   00:00:00    776     0\n",
      "1   00:15:00    613     0\n",
      "2   00:30:00    519     0\n",
      "3   00:45:00    477     0\n",
      "4   01:00:00    384     1\n",
      "..       ...    ...   ...\n",
      "91  22:45:00    931    22\n",
      "92  23:00:00   1012    23\n",
      "93  23:15:00    833    23\n",
      "94  23:30:00    823    23\n",
      "95  23:45:00    714    23\n",
      "\n",
      "[96 rows x 3 columns]\n"
     ]
    }
   ],
   "source": [
    "# Now let's create hours\n",
    "rides_by_hour1['hour'] = pd.to_datetime(rides_by_hour1['Time'], format = '%H:%M:%S').dt.hour\n",
    "print(rides_by_hour1)\n",
    "\n",
    "rides_by_hour2['hour'] = pd.to_datetime(rides_by_hour2['Time'], format = '%H:%M:%S').dt.hour\n",
    "print(rides_by_hour2)"
   ]
  },
  {
   "cell_type": "code",
   "execution_count": 54,
   "metadata": {},
   "outputs": [
    {
     "name": "stdout",
     "output_type": "stream",
     "text": [
      "    hour   Rides\n",
      "0      0   82801\n",
      "1      1   65729\n",
      "2      2   51236\n",
      "3      3   40732\n",
      "4      4   32594\n",
      "5      5   31749\n",
      "6      6   51814\n",
      "7      7  112884\n",
      "8      8  184053\n",
      "9      9  207439\n",
      "10    10  195422\n",
      "11    11  211111\n",
      "12    12  231362\n",
      "13    13  238754\n",
      "14    14  240064\n",
      "15    15  246397\n",
      "16    16  272483\n",
      "17    17  298116\n",
      "18    18  289195\n",
      "19    19  249803\n",
      "20    20  203404\n",
      "21    21  167935\n",
      "22    22  138900\n",
      "23    23  108149\n",
      "    hour  Rides\n",
      "0      0   2385\n",
      "1      1   1422\n",
      "2      2    997\n",
      "3      3   1028\n",
      "4      4   1600\n",
      "5      5   2315\n",
      "6      6   3498\n",
      "7      7   5023\n",
      "8      8   6499\n",
      "9      9   8081\n",
      "10    10   9503\n",
      "11    11   9982\n",
      "12    12  10472\n",
      "13    13  10777\n",
      "14    14  11197\n",
      "15    15  11618\n",
      "16    16  11267\n",
      "17    17  10275\n",
      "18    18   7847\n",
      "19    19   6221\n",
      "20    20   5078\n",
      "21    21   4190\n",
      "22    22   3943\n",
      "23    23   3382\n"
     ]
    }
   ],
   "source": [
    "# Now let's summarize hours\n",
    "rides_by_hour1 = rides_by_hour1.groupby('hour', as_index=False).agg({\"Rides\": \"sum\"})\n",
    "print(rides_by_hour1)\n",
    "\n",
    "rides_by_hour2 = rides_by_hour2.groupby('hour', as_index=False).agg({\"Rides\": \"sum\"})\n",
    "print(rides_by_hour2)"
   ]
  },
  {
   "cell_type": "code",
   "execution_count": 55,
   "metadata": {},
   "outputs": [
    {
     "data": {
      "image/png": "[encoded data removed]",
      "text/plain": [
       "<Figure size 720x720 with 1 Axes>"
      ]
     },
     "metadata": {
      "needs_background": "light"
     },
     "output_type": "display_data"
    }
   ],
   "source": [
    "# Now let's create a a barplot for the first dataset\n",
    "fig = plt.figure()\n",
    "ax = fig.add_axes([0,0,1,1])\n",
    "ax.bar(rides_by_hour1.hour, rides_by_hour1.Rides)\n",
    "plt.xticks(rides_by_hour1.hour)\n",
    "plt.ylabel('Rides')\n",
    "plt.title('Chicago taxi rides by hour (December 1, 2019 - March 20, 2020)')\n",
    "plt.show()"
   ]
  },
  {
   "cell_type": "code",
   "execution_count": 56,
   "metadata": {},
   "outputs": [
    {
     "data": {
      "image/png": "[encoded data removed]",
      "text/plain": [
       "<Figure size 720x720 with 1 Axes>"
      ]
     },
     "metadata": {
      "needs_background": "light"
     },
     "output_type": "display_data"
    }
   ],
   "source": [
    "# Now let's create a a barplot for the second dataset\n",
    "fig = plt.figure()\n",
    "ax = fig.add_axes([0,0,1,1])\n",
    "ax.bar(rides_by_hour2.hour, rides_by_hour2.Rides)\n",
    "plt.xticks(rides_by_hour2.hour)\n",
    "plt.ylabel('Rides')\n",
    "plt.title('Chicago taxi rides by hour (March 21, 2020 - June 2020)')\n",
    "plt.show()"
   ]
  },
  {
   "cell_type": "code",
   "execution_count": 57,
   "metadata": {},
   "outputs": [],
   "source": [
    "# As we can see, the patterns changed too, during COVID-19 the distribution of rides by hour became more condensed. "
   ]
  },
  {
   "cell_type": "markdown",
   "metadata": {},
   "source": [
    "### 3. Exploring changes in taxi payments and payment behavior"
   ]
  },
  {
   "cell_type": "code",
   "execution_count": 58,
   "metadata": {},
   "outputs": [
    {
     "name": "stdout",
     "output_type": "stream",
     "text": [
      "                                             Taxi ID Trip Start Timestamp  \\\n",
      "0  bbf91e67201de7487dbeb23021a9a741e36d8d65175def...  2019-12-01 00:15:00   \n",
      "1  b83ba3da1a4bc2a686d885ec2f802c3f256c518d93816c...  2019-12-01 00:15:00   \n",
      "2  53c01ec83313fee495650d2294b7c88ade2f3d82f3acd0...  2019-12-01 00:15:00   \n",
      "3  ef5e9c8f0da412a5961a77ad3da965c641e08eb1ddd19f...  2019-12-01 00:15:00   \n",
      "4  71cf25528ebc98e11ac91a5d359776a91874e7f6047cb8...  2019-12-01 00:15:00   \n",
      "\n",
      "   Trip End Timestamp  Trip Seconds  Trip Miles  Pickup Census Tract  \\\n",
      "0 2019-12-01 00:30:00         600.0         0.1         1.703184e+10   \n",
      "1 2019-12-01 00:15:00         180.0         0.0                  NaN   \n",
      "2 2019-12-01 00:30:00         380.0         1.2                  NaN   \n",
      "3 2019-12-01 00:30:00         780.0         2.0         1.703184e+10   \n",
      "4 2019-12-01 00:30:00         720.0         3.1         1.703128e+10   \n",
      "\n",
      "   Dropoff Census Tract  Pickup Community Area  Dropoff Community Area   Fare  \\\n",
      "0          1.703108e+10                   32.0                     8.0   8.75   \n",
      "1                   NaN                    7.0                     6.0   5.00   \n",
      "2                   NaN                   14.0                    16.0   6.25   \n",
      "3          1.703108e+10                   32.0                     8.0   9.25   \n",
      "4          1.703107e+10                   28.0                     7.0  11.50   \n",
      "\n",
      "   ...  Pickup Centroid Latitude  Pickup Centroid Longitude  \\\n",
      "0  ...                    41.881                 -87.632746   \n",
      "1  ...                   41.9227                 -87.649489   \n",
      "2  ...                   41.9681                 -87.721559   \n",
      "3  ...                    41.881                 -87.632746   \n",
      "4  ...                   41.8793                 -87.642649   \n",
      "\n",
      "               Pickup Centroid Location  Dropoff Centroid Latitude  \\\n",
      "0  POINT (-87.6327464887 41.8809944707)                  41.899156   \n",
      "1  POINT (-87.6494887289 41.9226862843)                  41.944227   \n",
      "2      POINT (-87.7215590627 41.968069)                  41.953582   \n",
      "3  POINT (-87.6327464887 41.8809944707)                  41.899156   \n",
      "4   POINT (-87.642648998 41.8792550844)                  41.922083   \n",
      "\n",
      "  Dropoff Centroid Longitude            Dropoff Centroid  Location Start Date  \\\n",
      "0                 -87.626211  POINT (-87.6262105324 41.8991556134) 2019-12-01   \n",
      "1                 -87.655998  POINT (-87.6559981815 41.9442266014) 2019-12-01   \n",
      "2                 -87.723452  POINT (-87.7234523905 41.9535821253) 2019-12-01   \n",
      "3                 -87.626211  POINT (-87.6262105324 41.8991556134) 2019-12-01   \n",
      "4                 -87.634156   POINT (-87.6341560931 41.922082541) 2019-12-01   \n",
      "\n",
      "   Start Time   End Date  End Time  \n",
      "0    00:15:00 2019-12-01  00:30:00  \n",
      "1    00:15:00 2019-12-01  00:15:00  \n",
      "2    00:15:00 2019-12-01  00:30:00  \n",
      "3    00:15:00 2019-12-01  00:30:00  \n",
      "4    00:15:00 2019-12-01  00:30:00  \n",
      "\n",
      "[5 rows x 26 columns]\n"
     ]
    }
   ],
   "source": [
    "# Now lets explore how the payment trends changed for taxi drivers due to COVID-19\n",
    "print(taxi_2020.head())"
   ]
  },
  {
   "cell_type": "code",
   "execution_count": 59,
   "metadata": {},
   "outputs": [
    {
     "name": "stdout",
     "output_type": "stream",
     "text": [
      "  Start Date   Fare\n",
      "0 2019-12-01   8.75\n",
      "1 2019-12-01   5.00\n",
      "2 2019-12-01   6.25\n",
      "3 2019-12-01   9.25\n",
      "4 2019-12-01  11.50\n"
     ]
    }
   ],
   "source": [
    "# Select the necessary columns\n",
    "fares = taxi_2020[['Start Date','Fare']]\n",
    "print(fares.head())"
   ]
  },
  {
   "cell_type": "code",
   "execution_count": 60,
   "metadata": {},
   "outputs": [
    {
     "name": "stdout",
     "output_type": "stream",
     "text": [
      "        Start_date   Fare\n",
      "0       2019-12-01   8.75\n",
      "1       2019-12-01   5.00\n",
      "2       2019-12-01   6.25\n",
      "3       2019-12-01   9.25\n",
      "4       2019-12-01  11.50\n",
      "...            ...    ...\n",
      "4137289 2020-06-01  35.00\n",
      "4137290 2020-06-01   3.25\n",
      "4137291 2020-06-01   6.50\n",
      "4137292 2020-06-01   9.25\n",
      "4137293 2020-06-01   4.50\n",
      "\n",
      "[4137294 rows x 2 columns]\n"
     ]
    }
   ],
   "source": [
    "# Rename start date column\n",
    "fares = fares.rename(columns = {'Start Date': \"Start_date\"})\n",
    "print(fares)"
   ]
  },
  {
   "cell_type": "code",
   "execution_count": 61,
   "metadata": {},
   "outputs": [
    {
     "name": "stdout",
     "output_type": "stream",
     "text": [
      "    Start_date  Fare\n",
      "0   2019-12-01  21.7\n",
      "1   2019-12-02  15.2\n",
      "2   2019-12-03  14.6\n",
      "3   2019-12-04  16.0\n",
      "4   2019-12-05  16.5\n",
      "..         ...   ...\n",
      "179 2020-05-28  15.3\n",
      "180 2020-05-29  16.2\n",
      "181 2020-05-30  18.3\n",
      "182 2020-05-31  20.0\n",
      "183 2020-06-01  13.9\n",
      "\n",
      "[184 rows x 2 columns]\n"
     ]
    }
   ],
   "source": [
    "# Calculate average check per a ride per day\n",
    "mean_fare_by_day = fares.groupby('Start_date', as_index=False).agg({\"Fare\": \"mean\"}).round(1)\n",
    "print(mean_fare_by_day)"
   ]
  },
  {
   "cell_type": "code",
   "execution_count": 62,
   "metadata": {},
   "outputs": [
    {
     "data": {
      "image/png": "[encoded data removed]",
      "text/plain": [
       "<Figure size 720x720 with 1 Axes>"
      ]
     },
     "metadata": {
      "needs_background": "light"
     },
     "output_type": "display_data"
    }
   ],
   "source": [
    "# Plot mean fare by day\n",
    "plt.rcParams['figure.figsize'] = (10,10)\n",
    "plt.plot(mean_fare_by_day.Start_date, mean_fare_by_day.Fare)\n",
    "plt.ylabel('Dollars')\n",
    "# plt.title('The fare remains more or less the same ($16), but in April it fluctuated much less')\n",
    "plt.show()"
   ]
  },
  {
   "cell_type": "code",
   "execution_count": 63,
   "metadata": {},
   "outputs": [
    {
     "name": "stdout",
     "output_type": "stream",
     "text": [
      "    Start_date       Fare\n",
      "0   2019-12-01   730009.9\n",
      "1   2019-12-02   804205.0\n",
      "2   2019-12-03   830246.8\n",
      "3   2019-12-04   927646.7\n",
      "4   2019-12-05  1028231.8\n",
      "..         ...        ...\n",
      "179 2020-05-28    41502.2\n",
      "180 2020-05-29    46201.5\n",
      "181 2020-05-30    43902.8\n",
      "182 2020-05-31    48646.9\n",
      "183 2020-06-01      138.8\n",
      "\n",
      "[184 rows x 2 columns]\n"
     ]
    }
   ],
   "source": [
    "# What was the cululative revenue of fares per day?\n",
    "sum_fare_by_day = fares.groupby('Start_date', as_index=False).agg({\"Fare\": \"sum\"}).round(1)\n",
    "print(sum_fare_by_day)"
   ]
  },
  {
   "cell_type": "code",
   "execution_count": 64,
   "metadata": {},
   "outputs": [
    {
     "data": {
      "image/png": "[encoded data removed]",
      "text/plain": [
       "<Figure size 720x720 with 1 Axes>"
      ]
     },
     "metadata": {
      "needs_background": "light"
     },
     "output_type": "display_data"
    }
   ],
   "source": [
    "# Plot cumusum fare by day\n",
    "plt.rcParams['figure.figsize'] = (10,10)\n",
    "plt.plot(sum_fare_by_day.Start_date, sum_fare_by_day.Fare)\n",
    "plt.ylabel('Daily revenue in dollars')\n",
    "# plt.title('The total daily revelue of Chicago drivers dropped due to COVID-19 \\n about 15 times - from 800000 USD to 45000 USD per day')\n",
    "plt.show()"
   ]
  },
  {
   "cell_type": "markdown",
   "metadata": {},
   "source": [
    "### 3. Time Series Analysis"
   ]
  },
  {
   "cell_type": "code",
   "execution_count": 67,
   "metadata": {},
   "outputs": [
    {
     "name": "stdout",
     "output_type": "stream",
     "text": [
      "   Start_date  Count\n",
      "0  2019-12-01  33571\n",
      "1  2019-12-02  52913\n",
      "2  2019-12-03  56998\n",
      "3  2019-12-04  58126\n",
      "4  2019-12-05  62134\n"
     ]
    }
   ],
   "source": [
    "# Let's use the same data use used to see the drop of traffic\n",
    "print(taxi_2020_by_day.head())"
   ]
  },
  {
   "cell_type": "code",
   "execution_count": 68,
   "metadata": {},
   "outputs": [
    {
     "data": {
      "text/plain": [
       "Start_date    object\n",
       "Count          int64\n",
       "dtype: object"
      ]
     },
     "execution_count": 68,
     "metadata": {},
     "output_type": "execute_result"
    }
   ],
   "source": [
    "# Check the type of columns\n",
    "taxi_2020_by_day.dtypes"
   ]
  },
  {
   "cell_type": "code",
   "execution_count": 69,
   "metadata": {},
   "outputs": [
    {
     "name": "stdout",
     "output_type": "stream",
     "text": [
      "368\n"
     ]
    }
   ],
   "source": [
    "# Print size\n",
    "print(taxi_2020_by_day.size)"
   ]
  },
  {
   "cell_type": "code",
   "execution_count": 70,
   "metadata": {},
   "outputs": [
    {
     "name": "stdout",
     "output_type": "stream",
     "text": [
      "              Count\n",
      "count    184.000000\n",
      "mean   22484.673913\n",
      "std    19593.800836\n",
      "min       10.000000\n",
      "25%     2362.000000\n",
      "50%    21637.500000\n",
      "75%    41370.250000\n",
      "max    62134.000000\n"
     ]
    }
   ],
   "source": [
    "# Descriptive statistics\n",
    "print(taxi_2020_by_day.describe())"
   ]
  },
  {
   "cell_type": "code",
   "execution_count": 71,
   "metadata": {},
   "outputs": [
    {
     "name": "stdout",
     "output_type": "stream",
     "text": [
      "         t    t+1\n",
      "0      NaN  33571\n",
      "1  33571.0  52913\n",
      "2  52913.0  56998\n",
      "3  56998.0  58126\n",
      "4  58126.0  62134\n"
     ]
    }
   ],
   "source": [
    "# Create a lagged feature\n",
    "data = taxi_2020_by_day['Count']\n",
    "ts_data = DataFrame(data.values)\n",
    "# print(temps)\n",
    "dataframe = concat([ts_data.shift(1), ts_data], axis=1)\n",
    "# print(dataframe)\n",
    "dataframe.columns = ['t', 't+1']\n",
    "print(dataframe.head(5))"
   ]
  },
  {
   "cell_type": "code",
   "execution_count": 72,
   "metadata": {},
   "outputs": [
    {
     "name": "stdout",
     "output_type": "stream",
     "text": [
      "       t-2      t-1        t    t+1\n",
      "0      NaN      NaN      NaN  33571\n",
      "1      NaN      NaN  33571.0  52913\n",
      "2      NaN  33571.0  52913.0  56998\n",
      "3  33571.0  52913.0  56998.0  58126\n",
      "4  52913.0  56998.0  58126.0  62134\n"
     ]
    }
   ],
   "source": [
    "# Create lag features with 3 values\n",
    "ts_data = DataFrame(data.values)\n",
    "dataframe = concat([ts_data.shift(3), ts_data.shift(2), ts_data.shift(1), ts_data], axis = 1)\n",
    "dataframe.columns = ['t-2', 't-1', 't', 't+1']\n",
    "print(dataframe.head(5))"
   ]
  },
  {
   "cell_type": "code",
   "execution_count": 73,
   "metadata": {},
   "outputs": [
    {
     "name": "stdout",
     "output_type": "stream",
     "text": [
      "   mean(t-1,t)    t+1\n",
      "0          NaN  33571\n",
      "1          NaN  52913\n",
      "2      43242.0  56998\n",
      "3      54955.5  58126\n",
      "4      57562.0  62134\n"
     ]
    }
   ],
   "source": [
    "# Create a rolling mean\n",
    "ts_data = DataFrame(data.values)\n",
    "shifted = ts_data.shift(1)\n",
    "window = shifted.rolling(window=2)\n",
    "means = window.mean()\n",
    "dataframe = concat([means, ts_data], axis=1)\n",
    "dataframe.columns = ['mean(t-1,t)', 't+1']\n",
    "print(dataframe.head(5))"
   ]
  },
  {
   "cell_type": "code",
   "execution_count": 74,
   "metadata": {},
   "outputs": [
    {
     "data": {
      "image/png": "[encoded data removed]",
      "text/plain": [
       "<Figure size 720x720 with 1 Axes>"
      ]
     },
     "metadata": {
      "needs_background": "light"
     },
     "output_type": "display_data"
    }
   ],
   "source": [
    "# Visualize\n",
    "ts_data = DataFrame(data.values)\n",
    "ts_data.plot(style='k.') # You can remove k. and receive a standard plot\n",
    "plt.show()"
   ]
  },
  {
   "cell_type": "code",
   "execution_count": null,
   "metadata": {},
   "outputs": [],
   "source": []
  },
  {
   "cell_type": "code",
   "execution_count": null,
   "metadata": {},
   "outputs": [],
   "source": []
  },
  {
   "cell_type": "code",
   "execution_count": null,
   "metadata": {},
   "outputs": [],
   "source": []
  },
  {
   "cell_type": "markdown",
   "metadata": {},
   "source": [
    "### 4.Logistic regression"
   ]
  },
  {
   "cell_type": "code",
   "execution_count": 75,
   "metadata": {},
   "outputs": [
    {
     "name": "stdout",
     "output_type": "stream",
     "text": [
      "                                             Taxi ID Trip Start Timestamp  \\\n",
      "0  bbf91e67201de7487dbeb23021a9a741e36d8d65175def...  2019-12-01 00:15:00   \n",
      "1  b83ba3da1a4bc2a686d885ec2f802c3f256c518d93816c...  2019-12-01 00:15:00   \n",
      "2  53c01ec83313fee495650d2294b7c88ade2f3d82f3acd0...  2019-12-01 00:15:00   \n",
      "3  ef5e9c8f0da412a5961a77ad3da965c641e08eb1ddd19f...  2019-12-01 00:15:00   \n",
      "4  71cf25528ebc98e11ac91a5d359776a91874e7f6047cb8...  2019-12-01 00:15:00   \n",
      "\n",
      "   Trip End Timestamp  Trip Seconds  Trip Miles  Pickup Census Tract  \\\n",
      "0 2019-12-01 00:30:00         600.0         0.1         1.703184e+10   \n",
      "1 2019-12-01 00:15:00         180.0         0.0                  NaN   \n",
      "2 2019-12-01 00:30:00         380.0         1.2                  NaN   \n",
      "3 2019-12-01 00:30:00         780.0         2.0         1.703184e+10   \n",
      "4 2019-12-01 00:30:00         720.0         3.1         1.703128e+10   \n",
      "\n",
      "   Dropoff Census Tract  Pickup Community Area  Dropoff Community Area   Fare  \\\n",
      "0          1.703108e+10                   32.0                     8.0   8.75   \n",
      "1                   NaN                    7.0                     6.0   5.00   \n",
      "2                   NaN                   14.0                    16.0   6.25   \n",
      "3          1.703108e+10                   32.0                     8.0   9.25   \n",
      "4          1.703107e+10                   28.0                     7.0  11.50   \n",
      "\n",
      "   ...  Pickup Centroid Latitude  Pickup Centroid Longitude  \\\n",
      "0  ...                    41.881                 -87.632746   \n",
      "1  ...                   41.9227                 -87.649489   \n",
      "2  ...                   41.9681                 -87.721559   \n",
      "3  ...                    41.881                 -87.632746   \n",
      "4  ...                   41.8793                 -87.642649   \n",
      "\n",
      "               Pickup Centroid Location  Dropoff Centroid Latitude  \\\n",
      "0  POINT (-87.6327464887 41.8809944707)                  41.899156   \n",
      "1  POINT (-87.6494887289 41.9226862843)                  41.944227   \n",
      "2      POINT (-87.7215590627 41.968069)                  41.953582   \n",
      "3  POINT (-87.6327464887 41.8809944707)                  41.899156   \n",
      "4   POINT (-87.642648998 41.8792550844)                  41.922083   \n",
      "\n",
      "  Dropoff Centroid Longitude            Dropoff Centroid  Location Start Date  \\\n",
      "0                 -87.626211  POINT (-87.6262105324 41.8991556134) 2019-12-01   \n",
      "1                 -87.655998  POINT (-87.6559981815 41.9442266014) 2019-12-01   \n",
      "2                 -87.723452  POINT (-87.7234523905 41.9535821253) 2019-12-01   \n",
      "3                 -87.626211  POINT (-87.6262105324 41.8991556134) 2019-12-01   \n",
      "4                 -87.634156   POINT (-87.6341560931 41.922082541) 2019-12-01   \n",
      "\n",
      "   Start Time   End Date  End Time  \n",
      "0    00:15:00 2019-12-01  00:30:00  \n",
      "1    00:15:00 2019-12-01  00:15:00  \n",
      "2    00:15:00 2019-12-01  00:30:00  \n",
      "3    00:15:00 2019-12-01  00:30:00  \n",
      "4    00:15:00 2019-12-01  00:30:00  \n",
      "\n",
      "[5 rows x 26 columns]\n"
     ]
    }
   ],
   "source": [
    "# Check dataframe\n",
    "print(taxi_2020.head())"
   ]
  },
  {
   "cell_type": "code",
   "execution_count": 77,
   "metadata": {},
   "outputs": [
    {
     "name": "stdout",
     "output_type": "stream",
     "text": [
      "   Trip Seconds  Trip Miles   Fare Payment Type Start Time  End Time  Tips\n",
      "0         600.0         0.1   8.75  Credit Card   00:15:00  00:30:00  1.75\n",
      "1         180.0         0.0   5.00  Credit Card   00:15:00  00:15:00  2.00\n",
      "2         380.0         1.2   6.25         Cash   00:15:00  00:30:00  0.00\n",
      "3         780.0         2.0   9.25  Credit Card   00:15:00  00:30:00  2.35\n",
      "4         720.0         3.1  11.50         Cash   00:15:00  00:30:00  0.00\n"
     ]
    }
   ],
   "source": [
    "# Select data\n",
    "my_data = taxi_2020[['Trip Seconds','Trip Miles', 'Fare', 'Payment Type', 'Start Time', 'End Time', 'Tips']]\n",
    "print(my_data.head())"
   ]
  },
  {
   "cell_type": "code",
   "execution_count": 89,
   "metadata": {},
   "outputs": [
    {
     "data": {
      "text/plain": [
       "Trip Seconds    1004\n",
       "Trip Miles       163\n",
       "Fare             484\n",
       "Payment Type     114\n",
       "Start Time       114\n",
       "End Time         423\n",
       "Tips             484\n",
       "dtype: int64"
      ]
     },
     "execution_count": 89,
     "metadata": {},
     "output_type": "execute_result"
    }
   ],
   "source": [
    "# Calculate how many NAs in each column\n",
    "my_data.isna().sum() "
   ]
  },
  {
   "cell_type": "code",
   "execution_count": 88,
   "metadata": {},
   "outputs": [],
   "source": [
    "# Save this datafarme as .csv\n",
    "my_data.to_csv('my_data.csv', index = False)"
   ]
  },
  {
   "cell_type": "markdown",
   "metadata": {},
   "source": [
    "**Additional research information:**\n",
    "\n",
    "1. How much does a Taxi Driver make in Chicago, IL? The average Taxi Driver salary in Chicago, IL is 38,001 USD as of May 28, 2020, but the range typically falls between 31,564 USD and 46,379 USD. \n",
    "\n",
    "2. Chicago, Illinois - 6,650 taxi certificates (medallions)\n",
    "\n"
   ]
  },
  {
   "cell_type": "markdown",
   "metadata": {},
   "source": [
    "### 3. Prepare dataset for time series/Prophet"
   ]
  },
  {
   "cell_type": "code",
   "execution_count": 22,
   "metadata": {},
   "outputs": [
    {
     "data": {
      "text/html": [
       "<div>\n",
       "<style scoped>\n",
       "    .dataframe tbody tr th:only-of-type {\n",
       "        vertical-align: middle;\n",
       "    }\n",
       "\n",
       "    .dataframe tbody tr th {\n",
       "        vertical-align: top;\n",
       "    }\n",
       "\n",
       "    .dataframe thead th {\n",
       "        text-align: right;\n",
       "    }\n",
       "</style>\n",
       "<table border=\"1\" class=\"dataframe\">\n",
       "  <thead>\n",
       "    <tr style=\"text-align: right;\">\n",
       "      <th></th>\n",
       "      <th>Taxi ID</th>\n",
       "      <th>Trip Start Timestamp</th>\n",
       "      <th>Trip End Timestamp</th>\n",
       "      <th>Trip Seconds</th>\n",
       "      <th>Trip Miles</th>\n",
       "      <th>Pickup Census Tract</th>\n",
       "      <th>Dropoff Census Tract</th>\n",
       "      <th>Pickup Community Area</th>\n",
       "      <th>Dropoff Community Area</th>\n",
       "      <th>Fare</th>\n",
       "      <th>...</th>\n",
       "      <th>Pickup Centroid Latitude</th>\n",
       "      <th>Pickup Centroid Longitude</th>\n",
       "      <th>Pickup Centroid Location</th>\n",
       "      <th>Dropoff Centroid Latitude</th>\n",
       "      <th>Dropoff Centroid Longitude</th>\n",
       "      <th>Dropoff Centroid  Location</th>\n",
       "      <th>Start Date</th>\n",
       "      <th>Start Time</th>\n",
       "      <th>End Date</th>\n",
       "      <th>End Time</th>\n",
       "    </tr>\n",
       "  </thead>\n",
       "  <tbody>\n",
       "    <tr>\n",
       "      <th>0</th>\n",
       "      <td>bbf91e67201de7487dbeb23021a9a741e36d8d65175def...</td>\n",
       "      <td>2019-12-01 00:15:00</td>\n",
       "      <td>2019-12-01 00:30:00</td>\n",
       "      <td>600.0</td>\n",
       "      <td>0.1</td>\n",
       "      <td>1.703184e+10</td>\n",
       "      <td>1.703108e+10</td>\n",
       "      <td>32.0</td>\n",
       "      <td>8.0</td>\n",
       "      <td>8.75</td>\n",
       "      <td>...</td>\n",
       "      <td>41.881</td>\n",
       "      <td>-87.632746</td>\n",
       "      <td>POINT (-87.6327464887 41.8809944707)</td>\n",
       "      <td>41.899156</td>\n",
       "      <td>-87.626211</td>\n",
       "      <td>POINT (-87.6262105324 41.8991556134)</td>\n",
       "      <td>2019-12-01</td>\n",
       "      <td>00:15:00</td>\n",
       "      <td>2019-12-01</td>\n",
       "      <td>00:30:00</td>\n",
       "    </tr>\n",
       "    <tr>\n",
       "      <th>1</th>\n",
       "      <td>b83ba3da1a4bc2a686d885ec2f802c3f256c518d93816c...</td>\n",
       "      <td>2019-12-01 00:15:00</td>\n",
       "      <td>2019-12-01 00:15:00</td>\n",
       "      <td>180.0</td>\n",
       "      <td>0.0</td>\n",
       "      <td>NaN</td>\n",
       "      <td>NaN</td>\n",
       "      <td>7.0</td>\n",
       "      <td>6.0</td>\n",
       "      <td>5.00</td>\n",
       "      <td>...</td>\n",
       "      <td>41.9227</td>\n",
       "      <td>-87.649489</td>\n",
       "      <td>POINT (-87.6494887289 41.9226862843)</td>\n",
       "      <td>41.944227</td>\n",
       "      <td>-87.655998</td>\n",
       "      <td>POINT (-87.6559981815 41.9442266014)</td>\n",
       "      <td>2019-12-01</td>\n",
       "      <td>00:15:00</td>\n",
       "      <td>2019-12-01</td>\n",
       "      <td>00:15:00</td>\n",
       "    </tr>\n",
       "    <tr>\n",
       "      <th>2</th>\n",
       "      <td>53c01ec83313fee495650d2294b7c88ade2f3d82f3acd0...</td>\n",
       "      <td>2019-12-01 00:15:00</td>\n",
       "      <td>2019-12-01 00:30:00</td>\n",
       "      <td>380.0</td>\n",
       "      <td>1.2</td>\n",
       "      <td>NaN</td>\n",
       "      <td>NaN</td>\n",
       "      <td>14.0</td>\n",
       "      <td>16.0</td>\n",
       "      <td>6.25</td>\n",
       "      <td>...</td>\n",
       "      <td>41.9681</td>\n",
       "      <td>-87.721559</td>\n",
       "      <td>POINT (-87.7215590627 41.968069)</td>\n",
       "      <td>41.953582</td>\n",
       "      <td>-87.723452</td>\n",
       "      <td>POINT (-87.7234523905 41.9535821253)</td>\n",
       "      <td>2019-12-01</td>\n",
       "      <td>00:15:00</td>\n",
       "      <td>2019-12-01</td>\n",
       "      <td>00:30:00</td>\n",
       "    </tr>\n",
       "    <tr>\n",
       "      <th>3</th>\n",
       "      <td>ef5e9c8f0da412a5961a77ad3da965c641e08eb1ddd19f...</td>\n",
       "      <td>2019-12-01 00:15:00</td>\n",
       "      <td>2019-12-01 00:30:00</td>\n",
       "      <td>780.0</td>\n",
       "      <td>2.0</td>\n",
       "      <td>1.703184e+10</td>\n",
       "      <td>1.703108e+10</td>\n",
       "      <td>32.0</td>\n",
       "      <td>8.0</td>\n",
       "      <td>9.25</td>\n",
       "      <td>...</td>\n",
       "      <td>41.881</td>\n",
       "      <td>-87.632746</td>\n",
       "      <td>POINT (-87.6327464887 41.8809944707)</td>\n",
       "      <td>41.899156</td>\n",
       "      <td>-87.626211</td>\n",
       "      <td>POINT (-87.6262105324 41.8991556134)</td>\n",
       "      <td>2019-12-01</td>\n",
       "      <td>00:15:00</td>\n",
       "      <td>2019-12-01</td>\n",
       "      <td>00:30:00</td>\n",
       "    </tr>\n",
       "    <tr>\n",
       "      <th>4</th>\n",
       "      <td>71cf25528ebc98e11ac91a5d359776a91874e7f6047cb8...</td>\n",
       "      <td>2019-12-01 00:15:00</td>\n",
       "      <td>2019-12-01 00:30:00</td>\n",
       "      <td>720.0</td>\n",
       "      <td>3.1</td>\n",
       "      <td>1.703128e+10</td>\n",
       "      <td>1.703107e+10</td>\n",
       "      <td>28.0</td>\n",
       "      <td>7.0</td>\n",
       "      <td>11.50</td>\n",
       "      <td>...</td>\n",
       "      <td>41.8793</td>\n",
       "      <td>-87.642649</td>\n",
       "      <td>POINT (-87.642648998 41.8792550844)</td>\n",
       "      <td>41.922083</td>\n",
       "      <td>-87.634156</td>\n",
       "      <td>POINT (-87.6341560931 41.922082541)</td>\n",
       "      <td>2019-12-01</td>\n",
       "      <td>00:15:00</td>\n",
       "      <td>2019-12-01</td>\n",
       "      <td>00:30:00</td>\n",
       "    </tr>\n",
       "  </tbody>\n",
       "</table>\n",
       "<p>5 rows × 26 columns</p>\n",
       "</div>"
      ],
      "text/plain": [
       "                                             Taxi ID Trip Start Timestamp  \\\n",
       "0  bbf91e67201de7487dbeb23021a9a741e36d8d65175def...  2019-12-01 00:15:00   \n",
       "1  b83ba3da1a4bc2a686d885ec2f802c3f256c518d93816c...  2019-12-01 00:15:00   \n",
       "2  53c01ec83313fee495650d2294b7c88ade2f3d82f3acd0...  2019-12-01 00:15:00   \n",
       "3  ef5e9c8f0da412a5961a77ad3da965c641e08eb1ddd19f...  2019-12-01 00:15:00   \n",
       "4  71cf25528ebc98e11ac91a5d359776a91874e7f6047cb8...  2019-12-01 00:15:00   \n",
       "\n",
       "   Trip End Timestamp  Trip Seconds  Trip Miles  Pickup Census Tract  \\\n",
       "0 2019-12-01 00:30:00         600.0         0.1         1.703184e+10   \n",
       "1 2019-12-01 00:15:00         180.0         0.0                  NaN   \n",
       "2 2019-12-01 00:30:00         380.0         1.2                  NaN   \n",
       "3 2019-12-01 00:30:00         780.0         2.0         1.703184e+10   \n",
       "4 2019-12-01 00:30:00         720.0         3.1         1.703128e+10   \n",
       "\n",
       "   Dropoff Census Tract  Pickup Community Area  Dropoff Community Area   Fare  \\\n",
       "0          1.703108e+10                   32.0                     8.0   8.75   \n",
       "1                   NaN                    7.0                     6.0   5.00   \n",
       "2                   NaN                   14.0                    16.0   6.25   \n",
       "3          1.703108e+10                   32.0                     8.0   9.25   \n",
       "4          1.703107e+10                   28.0                     7.0  11.50   \n",
       "\n",
       "   ...  Pickup Centroid Latitude  Pickup Centroid Longitude  \\\n",
       "0  ...                    41.881                 -87.632746   \n",
       "1  ...                   41.9227                 -87.649489   \n",
       "2  ...                   41.9681                 -87.721559   \n",
       "3  ...                    41.881                 -87.632746   \n",
       "4  ...                   41.8793                 -87.642649   \n",
       "\n",
       "               Pickup Centroid Location  Dropoff Centroid Latitude  \\\n",
       "0  POINT (-87.6327464887 41.8809944707)                  41.899156   \n",
       "1  POINT (-87.6494887289 41.9226862843)                  41.944227   \n",
       "2      POINT (-87.7215590627 41.968069)                  41.953582   \n",
       "3  POINT (-87.6327464887 41.8809944707)                  41.899156   \n",
       "4   POINT (-87.642648998 41.8792550844)                  41.922083   \n",
       "\n",
       "  Dropoff Centroid Longitude            Dropoff Centroid  Location Start Date  \\\n",
       "0                 -87.626211  POINT (-87.6262105324 41.8991556134) 2019-12-01   \n",
       "1                 -87.655998  POINT (-87.6559981815 41.9442266014) 2019-12-01   \n",
       "2                 -87.723452  POINT (-87.7234523905 41.9535821253) 2019-12-01   \n",
       "3                 -87.626211  POINT (-87.6262105324 41.8991556134) 2019-12-01   \n",
       "4                 -87.634156   POINT (-87.6341560931 41.922082541) 2019-12-01   \n",
       "\n",
       "   Start Time   End Date  End Time  \n",
       "0    00:15:00 2019-12-01  00:30:00  \n",
       "1    00:15:00 2019-12-01  00:15:00  \n",
       "2    00:15:00 2019-12-01  00:30:00  \n",
       "3    00:15:00 2019-12-01  00:30:00  \n",
       "4    00:15:00 2019-12-01  00:30:00  \n",
       "\n",
       "[5 rows x 26 columns]"
      ]
     },
     "execution_count": 22,
     "metadata": {},
     "output_type": "execute_result"
    }
   ],
   "source": [
    "# Check data\n",
    "taxi_2020.head()"
   ]
  },
  {
   "cell_type": "code",
   "execution_count": 9,
   "metadata": {},
   "outputs": [
    {
     "data": {
      "text/html": [
       "<div>\n",
       "<style scoped>\n",
       "    .dataframe tbody tr th:only-of-type {\n",
       "        vertical-align: middle;\n",
       "    }\n",
       "\n",
       "    .dataframe tbody tr th {\n",
       "        vertical-align: top;\n",
       "    }\n",
       "\n",
       "    .dataframe thead th {\n",
       "        text-align: right;\n",
       "    }\n",
       "</style>\n",
       "<table border=\"1\" class=\"dataframe\">\n",
       "  <thead>\n",
       "    <tr style=\"text-align: right;\">\n",
       "      <th></th>\n",
       "      <th>Start Date</th>\n",
       "      <th>Start Time</th>\n",
       "      <th>End Date</th>\n",
       "      <th>End Time</th>\n",
       "      <th>Trip Seconds</th>\n",
       "      <th>Trip Miles</th>\n",
       "      <th>Fare</th>\n",
       "      <th>Tips</th>\n",
       "      <th>Payment Type</th>\n",
       "      <th>Company</th>\n",
       "    </tr>\n",
       "  </thead>\n",
       "  <tbody>\n",
       "    <tr>\n",
       "      <th>0</th>\n",
       "      <td>2019-12-01</td>\n",
       "      <td>00:15:00</td>\n",
       "      <td>2019-12-01</td>\n",
       "      <td>00:30:00</td>\n",
       "      <td>600.0</td>\n",
       "      <td>0.1</td>\n",
       "      <td>8.75</td>\n",
       "      <td>1.75</td>\n",
       "      <td>Credit Card</td>\n",
       "      <td>Taxi Affiliation Services</td>\n",
       "    </tr>\n",
       "    <tr>\n",
       "      <th>1</th>\n",
       "      <td>2019-12-01</td>\n",
       "      <td>00:15:00</td>\n",
       "      <td>2019-12-01</td>\n",
       "      <td>00:15:00</td>\n",
       "      <td>180.0</td>\n",
       "      <td>0.0</td>\n",
       "      <td>5.00</td>\n",
       "      <td>2.00</td>\n",
       "      <td>Credit Card</td>\n",
       "      <td>Taxi Affiliation Services</td>\n",
       "    </tr>\n",
       "    <tr>\n",
       "      <th>2</th>\n",
       "      <td>2019-12-01</td>\n",
       "      <td>00:15:00</td>\n",
       "      <td>2019-12-01</td>\n",
       "      <td>00:30:00</td>\n",
       "      <td>380.0</td>\n",
       "      <td>1.2</td>\n",
       "      <td>6.25</td>\n",
       "      <td>0.00</td>\n",
       "      <td>Cash</td>\n",
       "      <td>Flash Cab</td>\n",
       "    </tr>\n",
       "    <tr>\n",
       "      <th>3</th>\n",
       "      <td>2019-12-01</td>\n",
       "      <td>00:15:00</td>\n",
       "      <td>2019-12-01</td>\n",
       "      <td>00:30:00</td>\n",
       "      <td>780.0</td>\n",
       "      <td>2.0</td>\n",
       "      <td>9.25</td>\n",
       "      <td>2.35</td>\n",
       "      <td>Credit Card</td>\n",
       "      <td>Taxi Affiliation Services</td>\n",
       "    </tr>\n",
       "    <tr>\n",
       "      <th>4</th>\n",
       "      <td>2019-12-01</td>\n",
       "      <td>00:15:00</td>\n",
       "      <td>2019-12-01</td>\n",
       "      <td>00:30:00</td>\n",
       "      <td>720.0</td>\n",
       "      <td>3.1</td>\n",
       "      <td>11.50</td>\n",
       "      <td>0.00</td>\n",
       "      <td>Cash</td>\n",
       "      <td>Taxi Affiliation Services</td>\n",
       "    </tr>\n",
       "  </tbody>\n",
       "</table>\n",
       "</div>"
      ],
      "text/plain": [
       "  Start Date Start Time   End Date  End Time  Trip Seconds  Trip Miles   Fare  \\\n",
       "0 2019-12-01   00:15:00 2019-12-01  00:30:00         600.0         0.1   8.75   \n",
       "1 2019-12-01   00:15:00 2019-12-01  00:15:00         180.0         0.0   5.00   \n",
       "2 2019-12-01   00:15:00 2019-12-01  00:30:00         380.0         1.2   6.25   \n",
       "3 2019-12-01   00:15:00 2019-12-01  00:30:00         780.0         2.0   9.25   \n",
       "4 2019-12-01   00:15:00 2019-12-01  00:30:00         720.0         3.1  11.50   \n",
       "\n",
       "   Tips Payment Type                    Company  \n",
       "0  1.75  Credit Card  Taxi Affiliation Services  \n",
       "1  2.00  Credit Card  Taxi Affiliation Services  \n",
       "2  0.00         Cash                  Flash Cab  \n",
       "3  2.35  Credit Card  Taxi Affiliation Services  \n",
       "4  0.00         Cash  Taxi Affiliation Services  "
      ]
     },
     "execution_count": 9,
     "metadata": {},
     "output_type": "execute_result"
    }
   ],
   "source": [
    "# Pick necessary rows\n",
    "taxi_data = taxi_2020[['Start Date', 'Start Time', 'End Date', 'End Time', 'Trip Seconds', 'Trip Miles', \n",
    "                       'Fare', 'Tips', 'Payment Type', 'Company']]\n",
    "taxi_data.head()"
   ]
  },
  {
   "cell_type": "code",
   "execution_count": 25,
   "metadata": {},
   "outputs": [
    {
     "data": {
      "text/plain": [
       "Start Date      datetime64[ns]\n",
       "Start Time              object\n",
       "End Date        datetime64[ns]\n",
       "End Time                object\n",
       "Trip Seconds           float64\n",
       "Trip Miles             float64\n",
       "Fare                   float64\n",
       "Tips                   float64\n",
       "Payment Type            object\n",
       "Company                 object\n",
       "dtype: object"
      ]
     },
     "execution_count": 25,
     "metadata": {},
     "output_type": "execute_result"
    }
   ],
   "source": [
    "# Check types\n",
    "taxi_data.dtypes"
   ]
  },
  {
   "cell_type": "code",
   "execution_count": 10,
   "metadata": {},
   "outputs": [
    {
     "data": {
      "text/html": [
       "<div>\n",
       "<style scoped>\n",
       "    .dataframe tbody tr th:only-of-type {\n",
       "        vertical-align: middle;\n",
       "    }\n",
       "\n",
       "    .dataframe tbody tr th {\n",
       "        vertical-align: top;\n",
       "    }\n",
       "\n",
       "    .dataframe thead th {\n",
       "        text-align: right;\n",
       "    }\n",
       "</style>\n",
       "<table border=\"1\" class=\"dataframe\">\n",
       "  <thead>\n",
       "    <tr style=\"text-align: right;\">\n",
       "      <th></th>\n",
       "      <th>Start Date</th>\n",
       "      <th>Fare</th>\n",
       "    </tr>\n",
       "  </thead>\n",
       "  <tbody>\n",
       "    <tr>\n",
       "      <th>0</th>\n",
       "      <td>2019-12-01</td>\n",
       "      <td>8.75</td>\n",
       "    </tr>\n",
       "    <tr>\n",
       "      <th>1</th>\n",
       "      <td>2019-12-01</td>\n",
       "      <td>5.00</td>\n",
       "    </tr>\n",
       "    <tr>\n",
       "      <th>2</th>\n",
       "      <td>2019-12-01</td>\n",
       "      <td>6.25</td>\n",
       "    </tr>\n",
       "    <tr>\n",
       "      <th>3</th>\n",
       "      <td>2019-12-01</td>\n",
       "      <td>9.25</td>\n",
       "    </tr>\n",
       "    <tr>\n",
       "      <th>4</th>\n",
       "      <td>2019-12-01</td>\n",
       "      <td>11.50</td>\n",
       "    </tr>\n",
       "  </tbody>\n",
       "</table>\n",
       "</div>"
      ],
      "text/plain": [
       "  Start Date   Fare\n",
       "0 2019-12-01   8.75\n",
       "1 2019-12-01   5.00\n",
       "2 2019-12-01   6.25\n",
       "3 2019-12-01   9.25\n",
       "4 2019-12-01  11.50"
      ]
     },
     "execution_count": 10,
     "metadata": {},
     "output_type": "execute_result"
    }
   ],
   "source": [
    "# Create ds and y for fares\n",
    "fares_data = taxi_data[['Start Date', 'Fare']]\n",
    "fares_data.head()"
   ]
  },
  {
   "cell_type": "code",
   "execution_count": 11,
   "metadata": {},
   "outputs": [],
   "source": [
    "# Create dataset for March-June only\n",
    "fares_data_covid = fares_data[(fares_data['Start Date'] > '2020-03-01') & (fares_data['Start Date'] <= '2020-06-15')]"
   ]
  },
  {
   "cell_type": "code",
   "execution_count": 12,
   "metadata": {},
   "outputs": [
    {
     "data": {
      "text/html": [
       "<div>\n",
       "<style scoped>\n",
       "    .dataframe tbody tr th:only-of-type {\n",
       "        vertical-align: middle;\n",
       "    }\n",
       "\n",
       "    .dataframe tbody tr th {\n",
       "        vertical-align: top;\n",
       "    }\n",
       "\n",
       "    .dataframe thead th {\n",
       "        text-align: right;\n",
       "    }\n",
       "</style>\n",
       "<table border=\"1\" class=\"dataframe\">\n",
       "  <thead>\n",
       "    <tr style=\"text-align: right;\">\n",
       "      <th></th>\n",
       "      <th>Start Date</th>\n",
       "      <th>Fare</th>\n",
       "    </tr>\n",
       "  </thead>\n",
       "  <tbody>\n",
       "    <tr>\n",
       "      <th>3476291</th>\n",
       "      <td>2020-03-02</td>\n",
       "      <td>13.00</td>\n",
       "    </tr>\n",
       "    <tr>\n",
       "      <th>3476292</th>\n",
       "      <td>2020-03-02</td>\n",
       "      <td>3.25</td>\n",
       "    </tr>\n",
       "    <tr>\n",
       "      <th>3476293</th>\n",
       "      <td>2020-03-02</td>\n",
       "      <td>10.75</td>\n",
       "    </tr>\n",
       "    <tr>\n",
       "      <th>3476294</th>\n",
       "      <td>2020-03-02</td>\n",
       "      <td>24.25</td>\n",
       "    </tr>\n",
       "    <tr>\n",
       "      <th>3476295</th>\n",
       "      <td>2020-03-02</td>\n",
       "      <td>36.50</td>\n",
       "    </tr>\n",
       "    <tr>\n",
       "      <th>...</th>\n",
       "      <td>...</td>\n",
       "      <td>...</td>\n",
       "    </tr>\n",
       "    <tr>\n",
       "      <th>4137289</th>\n",
       "      <td>2020-06-01</td>\n",
       "      <td>35.00</td>\n",
       "    </tr>\n",
       "    <tr>\n",
       "      <th>4137290</th>\n",
       "      <td>2020-06-01</td>\n",
       "      <td>3.25</td>\n",
       "    </tr>\n",
       "    <tr>\n",
       "      <th>4137291</th>\n",
       "      <td>2020-06-01</td>\n",
       "      <td>6.50</td>\n",
       "    </tr>\n",
       "    <tr>\n",
       "      <th>4137292</th>\n",
       "      <td>2020-06-01</td>\n",
       "      <td>9.25</td>\n",
       "    </tr>\n",
       "    <tr>\n",
       "      <th>4137293</th>\n",
       "      <td>2020-06-01</td>\n",
       "      <td>4.50</td>\n",
       "    </tr>\n",
       "  </tbody>\n",
       "</table>\n",
       "<p>661003 rows × 2 columns</p>\n",
       "</div>"
      ],
      "text/plain": [
       "        Start Date   Fare\n",
       "3476291 2020-03-02  13.00\n",
       "3476292 2020-03-02   3.25\n",
       "3476293 2020-03-02  10.75\n",
       "3476294 2020-03-02  24.25\n",
       "3476295 2020-03-02  36.50\n",
       "...            ...    ...\n",
       "4137289 2020-06-01  35.00\n",
       "4137290 2020-06-01   3.25\n",
       "4137291 2020-06-01   6.50\n",
       "4137292 2020-06-01   9.25\n",
       "4137293 2020-06-01   4.50\n",
       "\n",
       "[661003 rows x 2 columns]"
      ]
     },
     "execution_count": 12,
     "metadata": {},
     "output_type": "execute_result"
    }
   ],
   "source": [
    "# We have only 661003 rows\n",
    "fares_data_covid"
   ]
  },
  {
   "cell_type": "code",
   "execution_count": 73,
   "metadata": {},
   "outputs": [
    {
     "data": {
      "text/html": [
       "<div>\n",
       "<style scoped>\n",
       "    .dataframe tbody tr th:only-of-type {\n",
       "        vertical-align: middle;\n",
       "    }\n",
       "\n",
       "    .dataframe tbody tr th {\n",
       "        vertical-align: top;\n",
       "    }\n",
       "\n",
       "    .dataframe thead th {\n",
       "        text-align: right;\n",
       "    }\n",
       "</style>\n",
       "<table border=\"1\" class=\"dataframe\">\n",
       "  <thead>\n",
       "    <tr style=\"text-align: right;\">\n",
       "      <th></th>\n",
       "      <th>ds</th>\n",
       "      <th>y</th>\n",
       "    </tr>\n",
       "  </thead>\n",
       "  <tbody>\n",
       "    <tr>\n",
       "      <th>123</th>\n",
       "      <td>2020-04-02</td>\n",
       "      <td>2246</td>\n",
       "    </tr>\n",
       "    <tr>\n",
       "      <th>124</th>\n",
       "      <td>2020-04-03</td>\n",
       "      <td>2559</td>\n",
       "    </tr>\n",
       "    <tr>\n",
       "      <th>125</th>\n",
       "      <td>2020-04-04</td>\n",
       "      <td>1745</td>\n",
       "    </tr>\n",
       "    <tr>\n",
       "      <th>126</th>\n",
       "      <td>2020-04-05</td>\n",
       "      <td>1270</td>\n",
       "    </tr>\n",
       "    <tr>\n",
       "      <th>127</th>\n",
       "      <td>2020-04-06</td>\n",
       "      <td>2171</td>\n",
       "    </tr>\n",
       "  </tbody>\n",
       "</table>\n",
       "</div>"
      ],
      "text/plain": [
       "            ds     y\n",
       "123 2020-04-02  2246\n",
       "124 2020-04-03  2559\n",
       "125 2020-04-04  1745\n",
       "126 2020-04-05  1270\n",
       "127 2020-04-06  2171"
      ]
     },
     "execution_count": 73,
     "metadata": {},
     "output_type": "execute_result"
    }
   ],
   "source": [
    "# Create a dataset for ts (April - June)\n",
    "taxi_2020_by_day['Start_date'] = pd.to_datetime(taxi_2020_by_day['Start_date'])\n",
    "rides_data_covid_new = taxi_2020_by_day[(taxi_2020_by_day['Start_date'] > '2020-04-01') & (taxi_2020_by_day['Start_date'] <= '2020-06-15')]\n",
    "rides_data_covid_new.head()\n",
    "rides_data_covid_new.dtypes\n",
    "rides_data_covid_new = rides_data_covid_new[['Start_date', 'Count']]\n",
    "rides_data_covid_new.dtypes\n",
    "rides_data_covid_new = rides_data_covid_new.rename(columns = {'Start_date': 'ds', 'Count': 'y'})\n",
    "rides_data_covid_new.head()"
   ]
  },
  {
   "cell_type": "code",
   "execution_count": 108,
   "metadata": {},
   "outputs": [
    {
     "data": {
      "text/html": [
       "<div>\n",
       "<style scoped>\n",
       "    .dataframe tbody tr th:only-of-type {\n",
       "        vertical-align: middle;\n",
       "    }\n",
       "\n",
       "    .dataframe tbody tr th {\n",
       "        vertical-align: top;\n",
       "    }\n",
       "\n",
       "    .dataframe thead th {\n",
       "        text-align: right;\n",
       "    }\n",
       "</style>\n",
       "<table border=\"1\" class=\"dataframe\">\n",
       "  <thead>\n",
       "    <tr style=\"text-align: right;\">\n",
       "      <th></th>\n",
       "      <th>ds</th>\n",
       "      <th>y</th>\n",
       "    </tr>\n",
       "  </thead>\n",
       "  <tbody>\n",
       "    <tr>\n",
       "      <th>123</th>\n",
       "      <td>2020-04-02</td>\n",
       "      <td>2246</td>\n",
       "    </tr>\n",
       "    <tr>\n",
       "      <th>124</th>\n",
       "      <td>2020-04-03</td>\n",
       "      <td>2559</td>\n",
       "    </tr>\n",
       "    <tr>\n",
       "      <th>125</th>\n",
       "      <td>2020-04-04</td>\n",
       "      <td>1745</td>\n",
       "    </tr>\n",
       "    <tr>\n",
       "      <th>126</th>\n",
       "      <td>2020-04-05</td>\n",
       "      <td>1270</td>\n",
       "    </tr>\n",
       "    <tr>\n",
       "      <th>127</th>\n",
       "      <td>2020-04-06</td>\n",
       "      <td>2171</td>\n",
       "    </tr>\n",
       "    <tr>\n",
       "      <th>...</th>\n",
       "      <td>...</td>\n",
       "      <td>...</td>\n",
       "    </tr>\n",
       "    <tr>\n",
       "      <th>179</th>\n",
       "      <td>2020-05-28</td>\n",
       "      <td>2721</td>\n",
       "    </tr>\n",
       "    <tr>\n",
       "      <th>180</th>\n",
       "      <td>2020-05-29</td>\n",
       "      <td>2844</td>\n",
       "    </tr>\n",
       "    <tr>\n",
       "      <th>181</th>\n",
       "      <td>2020-05-30</td>\n",
       "      <td>2394</td>\n",
       "    </tr>\n",
       "    <tr>\n",
       "      <th>182</th>\n",
       "      <td>2020-05-31</td>\n",
       "      <td>2438</td>\n",
       "    </tr>\n",
       "    <tr>\n",
       "      <th>183</th>\n",
       "      <td>2020-06-01</td>\n",
       "      <td>10</td>\n",
       "    </tr>\n",
       "  </tbody>\n",
       "</table>\n",
       "<p>61 rows × 2 columns</p>\n",
       "</div>"
      ],
      "text/plain": [
       "            ds     y\n",
       "123 2020-04-02  2246\n",
       "124 2020-04-03  2559\n",
       "125 2020-04-04  1745\n",
       "126 2020-04-05  1270\n",
       "127 2020-04-06  2171\n",
       "..         ...   ...\n",
       "179 2020-05-28  2721\n",
       "180 2020-05-29  2844\n",
       "181 2020-05-30  2394\n",
       "182 2020-05-31  2438\n",
       "183 2020-06-01    10\n",
       "\n",
       "[61 rows x 2 columns]"
      ]
     },
     "execution_count": 108,
     "metadata": {},
     "output_type": "execute_result"
    }
   ],
   "source": [
    "rides_data_covid_new"
   ]
  },
  {
   "cell_type": "code",
   "execution_count": 76,
   "metadata": {},
   "outputs": [],
   "source": [
    "# rides_data_covid_new = taxi_2020_by_day[(fares_data['Start Date'] > '2020-03-01') & (fares_data['Start Date'] <= '2020-06-15')]\n",
    "# rides_data_covid = taxi_2020_by_day.rename(columns = {'Start_date': 'ds', 'Count': 'y'})\n",
    "# rides_data_covid.head()\n",
    "# fares_data_covid.head()\n",
    "# fares_data_covid.dtypes\n",
    "# rides_data_covid_only = rides_data_covid[(rides_data_covid['ds'] > '2020-03-01') & (rides_data_covid['ds'] <= '2020-06-15')]"
   ]
  },
  {
   "cell_type": "code",
   "execution_count": 96,
   "metadata": {},
   "outputs": [],
   "source": [
    "# https://facebook.github.io/prophet/docs/quick_start.html#python-api\n",
    "m = Prophet()"
   ]
  },
  {
   "cell_type": "code",
   "execution_count": 97,
   "metadata": {},
   "outputs": [
    {
     "name": "stderr",
     "output_type": "stream",
     "text": [
      "INFO:fbprophet:Disabling yearly seasonality. Run prophet with yearly_seasonality=True to override this.\n",
      "INFO:fbprophet:Disabling daily seasonality. Run prophet with daily_seasonality=True to override this.\n"
     ]
    },
    {
     "data": {
      "text/plain": [
       "<fbprophet.forecaster.Prophet at 0x1b34f047488>"
      ]
     },
     "execution_count": 97,
     "metadata": {},
     "output_type": "execute_result"
    }
   ],
   "source": [
    "# We fit the model by instantiating a new Prophet object. \n",
    "# Any settings to the forecasting procedure are passed into the constructor. \n",
    "# Then you call its fit method and pass in the historical dataframe. Fitting should take 1-5 seconds.\n",
    "m.fit(rides_data_covid_new)"
   ]
  },
  {
   "cell_type": "code",
   "execution_count": 102,
   "metadata": {},
   "outputs": [
    {
     "data": {
      "text/html": [
       "<div>\n",
       "<style scoped>\n",
       "    .dataframe tbody tr th:only-of-type {\n",
       "        vertical-align: middle;\n",
       "    }\n",
       "\n",
       "    .dataframe tbody tr th {\n",
       "        vertical-align: top;\n",
       "    }\n",
       "\n",
       "    .dataframe thead th {\n",
       "        text-align: right;\n",
       "    }\n",
       "</style>\n",
       "<table border=\"1\" class=\"dataframe\">\n",
       "  <thead>\n",
       "    <tr style=\"text-align: right;\">\n",
       "      <th></th>\n",
       "      <th>ds</th>\n",
       "    </tr>\n",
       "  </thead>\n",
       "  <tbody>\n",
       "    <tr>\n",
       "      <th>86</th>\n",
       "      <td>2020-06-27</td>\n",
       "    </tr>\n",
       "    <tr>\n",
       "      <th>87</th>\n",
       "      <td>2020-06-28</td>\n",
       "    </tr>\n",
       "    <tr>\n",
       "      <th>88</th>\n",
       "      <td>2020-06-29</td>\n",
       "    </tr>\n",
       "    <tr>\n",
       "      <th>89</th>\n",
       "      <td>2020-06-30</td>\n",
       "    </tr>\n",
       "    <tr>\n",
       "      <th>90</th>\n",
       "      <td>2020-07-01</td>\n",
       "    </tr>\n",
       "  </tbody>\n",
       "</table>\n",
       "</div>"
      ],
      "text/plain": [
       "           ds\n",
       "86 2020-06-27\n",
       "87 2020-06-28\n",
       "88 2020-06-29\n",
       "89 2020-06-30\n",
       "90 2020-07-01"
      ]
     },
     "execution_count": 102,
     "metadata": {},
     "output_type": "execute_result"
    }
   ],
   "source": [
    "# Predictions are then made on a dataframe with a column ds containing the dates for which a prediction is to be made. \n",
    "# You can get a suitable dataframe that extends into the future a specified number of days using \n",
    "# the helper method Prophet.make_future_dataframe. By default it will also include the dates from the history, \n",
    "# so we will see the model fit as well.\n",
    "# Python\n",
    "future = m.make_future_dataframe(periods = 30)\n",
    "future.tail()"
   ]
  },
  {
   "cell_type": "code",
   "execution_count": 103,
   "metadata": {},
   "outputs": [
    {
     "data": {
      "text/html": [
       "<div>\n",
       "<style scoped>\n",
       "    .dataframe tbody tr th:only-of-type {\n",
       "        vertical-align: middle;\n",
       "    }\n",
       "\n",
       "    .dataframe tbody tr th {\n",
       "        vertical-align: top;\n",
       "    }\n",
       "\n",
       "    .dataframe thead th {\n",
       "        text-align: right;\n",
       "    }\n",
       "</style>\n",
       "<table border=\"1\" class=\"dataframe\">\n",
       "  <thead>\n",
       "    <tr style=\"text-align: right;\">\n",
       "      <th></th>\n",
       "      <th>ds</th>\n",
       "      <th>yhat</th>\n",
       "      <th>yhat_lower</th>\n",
       "      <th>yhat_upper</th>\n",
       "    </tr>\n",
       "  </thead>\n",
       "  <tbody>\n",
       "    <tr>\n",
       "      <th>86</th>\n",
       "      <td>2020-06-27</td>\n",
       "      <td>2363.620805</td>\n",
       "      <td>1929.463815</td>\n",
       "      <td>2847.483499</td>\n",
       "    </tr>\n",
       "    <tr>\n",
       "      <th>87</th>\n",
       "      <td>2020-06-28</td>\n",
       "      <td>1980.733985</td>\n",
       "      <td>1469.004456</td>\n",
       "      <td>2432.280417</td>\n",
       "    </tr>\n",
       "    <tr>\n",
       "      <th>88</th>\n",
       "      <td>2020-06-29</td>\n",
       "      <td>2429.620573</td>\n",
       "      <td>1949.895537</td>\n",
       "      <td>2904.490537</td>\n",
       "    </tr>\n",
       "    <tr>\n",
       "      <th>89</th>\n",
       "      <td>2020-06-30</td>\n",
       "      <td>2732.871753</td>\n",
       "      <td>2269.680529</td>\n",
       "      <td>3217.040327</td>\n",
       "    </tr>\n",
       "    <tr>\n",
       "      <th>90</th>\n",
       "      <td>2020-07-01</td>\n",
       "      <td>2812.996344</td>\n",
       "      <td>2382.447528</td>\n",
       "      <td>3296.655087</td>\n",
       "    </tr>\n",
       "  </tbody>\n",
       "</table>\n",
       "</div>"
      ],
      "text/plain": [
       "           ds         yhat   yhat_lower   yhat_upper\n",
       "86 2020-06-27  2363.620805  1929.463815  2847.483499\n",
       "87 2020-06-28  1980.733985  1469.004456  2432.280417\n",
       "88 2020-06-29  2429.620573  1949.895537  2904.490537\n",
       "89 2020-06-30  2732.871753  2269.680529  3217.040327\n",
       "90 2020-07-01  2812.996344  2382.447528  3296.655087"
      ]
     },
     "execution_count": 103,
     "metadata": {},
     "output_type": "execute_result"
    }
   ],
   "source": [
    "# The predict method will assign each row in future a predicted value which it names yhat. \n",
    "# If you pass in historical dates, it will provide an in-sample fit. \n",
    "# The forecast object here is a new dataframe that includes a column yhat with the forecast, \n",
    "# as well as columns for components and uncertainty intervals.\n",
    "forecast = m.predict(future)\n",
    "forecast[['ds', 'yhat', 'yhat_lower', 'yhat_upper']].tail()"
   ]
  },
  {
   "cell_type": "code",
   "execution_count": 104,
   "metadata": {},
   "outputs": [
    {
     "data": {
      "image/png": "[encoded data removed]",
      "text/plain": [
       "<Figure size 720x432 with 1 Axes>"
      ]
     },
     "metadata": {},
     "output_type": "display_data"
    }
   ],
   "source": [
    "# Visualize\n",
    "fig = m.plot(forecast, xlabel = \"Dates\", ylabel = \"Rides\")"
   ]
  },
  {
   "cell_type": "code",
   "execution_count": 143,
   "metadata": {},
   "outputs": [
    {
     "name": "stderr",
     "output_type": "stream",
     "text": [
      "INFO:fbprophet:Making 1 forecasts with cutoffs between 2020-05-02 00:00:00 and 2020-05-02 00:00:00\n",
      "INFO:fbprophet:n_changepoints greater than number of observations. Using 23.\n"
     ]
    },
    {
     "data": {
      "text/html": [
       "<div>\n",
       "<style scoped>\n",
       "    .dataframe tbody tr th:only-of-type {\n",
       "        vertical-align: middle;\n",
       "    }\n",
       "\n",
       "    .dataframe tbody tr th {\n",
       "        vertical-align: top;\n",
       "    }\n",
       "\n",
       "    .dataframe thead th {\n",
       "        text-align: right;\n",
       "    }\n",
       "</style>\n",
       "<table border=\"1\" class=\"dataframe\">\n",
       "  <thead>\n",
       "    <tr style=\"text-align: right;\">\n",
       "      <th></th>\n",
       "      <th>ds</th>\n",
       "      <th>yhat</th>\n",
       "      <th>yhat_lower</th>\n",
       "      <th>yhat_upper</th>\n",
       "      <th>y</th>\n",
       "      <th>cutoff</th>\n",
       "    </tr>\n",
       "  </thead>\n",
       "  <tbody>\n",
       "    <tr>\n",
       "      <th>0</th>\n",
       "      <td>2020-05-03</td>\n",
       "      <td>1487.557478</td>\n",
       "      <td>1349.964525</td>\n",
       "      <td>1646.627029</td>\n",
       "      <td>1516</td>\n",
       "      <td>2020-05-02</td>\n",
       "    </tr>\n",
       "    <tr>\n",
       "      <th>1</th>\n",
       "      <td>2020-05-04</td>\n",
       "      <td>2401.159534</td>\n",
       "      <td>2257.647266</td>\n",
       "      <td>2548.385545</td>\n",
       "      <td>2607</td>\n",
       "      <td>2020-05-02</td>\n",
       "    </tr>\n",
       "    <tr>\n",
       "      <th>2</th>\n",
       "      <td>2020-05-05</td>\n",
       "      <td>2428.491498</td>\n",
       "      <td>2283.287118</td>\n",
       "      <td>2579.900247</td>\n",
       "      <td>2419</td>\n",
       "      <td>2020-05-02</td>\n",
       "    </tr>\n",
       "    <tr>\n",
       "      <th>3</th>\n",
       "      <td>2020-05-06</td>\n",
       "      <td>2521.320197</td>\n",
       "      <td>2373.134718</td>\n",
       "      <td>2665.392275</td>\n",
       "      <td>2469</td>\n",
       "      <td>2020-05-02</td>\n",
       "    </tr>\n",
       "    <tr>\n",
       "      <th>4</th>\n",
       "      <td>2020-05-07</td>\n",
       "      <td>2645.747734</td>\n",
       "      <td>2504.724606</td>\n",
       "      <td>2780.673981</td>\n",
       "      <td>2527</td>\n",
       "      <td>2020-05-02</td>\n",
       "    </tr>\n",
       "    <tr>\n",
       "      <th>5</th>\n",
       "      <td>2020-05-08</td>\n",
       "      <td>2804.228577</td>\n",
       "      <td>2656.381347</td>\n",
       "      <td>2947.004412</td>\n",
       "      <td>2437</td>\n",
       "      <td>2020-05-02</td>\n",
       "    </tr>\n",
       "    <tr>\n",
       "      <th>6</th>\n",
       "      <td>2020-05-09</td>\n",
       "      <td>2287.342134</td>\n",
       "      <td>2127.857676</td>\n",
       "      <td>2428.691589</td>\n",
       "      <td>1880</td>\n",
       "      <td>2020-05-02</td>\n",
       "    </tr>\n",
       "    <tr>\n",
       "      <th>7</th>\n",
       "      <td>2020-05-10</td>\n",
       "      <td>1828.952412</td>\n",
       "      <td>1674.352601</td>\n",
       "      <td>1984.197364</td>\n",
       "      <td>1482</td>\n",
       "      <td>2020-05-02</td>\n",
       "    </tr>\n",
       "    <tr>\n",
       "      <th>8</th>\n",
       "      <td>2020-05-11</td>\n",
       "      <td>2742.554469</td>\n",
       "      <td>2585.304127</td>\n",
       "      <td>2915.281893</td>\n",
       "      <td>2256</td>\n",
       "      <td>2020-05-02</td>\n",
       "    </tr>\n",
       "    <tr>\n",
       "      <th>9</th>\n",
       "      <td>2020-05-12</td>\n",
       "      <td>2769.886432</td>\n",
       "      <td>2600.669358</td>\n",
       "      <td>2937.671560</td>\n",
       "      <td>2339</td>\n",
       "      <td>2020-05-02</td>\n",
       "    </tr>\n",
       "    <tr>\n",
       "      <th>10</th>\n",
       "      <td>2020-05-13</td>\n",
       "      <td>2862.715131</td>\n",
       "      <td>2686.163950</td>\n",
       "      <td>3043.573188</td>\n",
       "      <td>2410</td>\n",
       "      <td>2020-05-02</td>\n",
       "    </tr>\n",
       "    <tr>\n",
       "      <th>11</th>\n",
       "      <td>2020-05-14</td>\n",
       "      <td>2987.142668</td>\n",
       "      <td>2818.934658</td>\n",
       "      <td>3181.007316</td>\n",
       "      <td>2347</td>\n",
       "      <td>2020-05-02</td>\n",
       "    </tr>\n",
       "    <tr>\n",
       "      <th>12</th>\n",
       "      <td>2020-05-15</td>\n",
       "      <td>3145.623512</td>\n",
       "      <td>2963.935391</td>\n",
       "      <td>3342.299330</td>\n",
       "      <td>2683</td>\n",
       "      <td>2020-05-02</td>\n",
       "    </tr>\n",
       "    <tr>\n",
       "      <th>13</th>\n",
       "      <td>2020-05-16</td>\n",
       "      <td>2628.737068</td>\n",
       "      <td>2422.116402</td>\n",
       "      <td>2831.834281</td>\n",
       "      <td>1917</td>\n",
       "      <td>2020-05-02</td>\n",
       "    </tr>\n",
       "    <tr>\n",
       "      <th>14</th>\n",
       "      <td>2020-05-17</td>\n",
       "      <td>2170.347346</td>\n",
       "      <td>1960.033648</td>\n",
       "      <td>2375.048693</td>\n",
       "      <td>1577</td>\n",
       "      <td>2020-05-02</td>\n",
       "    </tr>\n",
       "    <tr>\n",
       "      <th>15</th>\n",
       "      <td>2020-05-18</td>\n",
       "      <td>3083.949403</td>\n",
       "      <td>2854.284940</td>\n",
       "      <td>3304.291077</td>\n",
       "      <td>2515</td>\n",
       "      <td>2020-05-02</td>\n",
       "    </tr>\n",
       "    <tr>\n",
       "      <th>16</th>\n",
       "      <td>2020-05-19</td>\n",
       "      <td>3111.281367</td>\n",
       "      <td>2871.507333</td>\n",
       "      <td>3373.115351</td>\n",
       "      <td>2367</td>\n",
       "      <td>2020-05-02</td>\n",
       "    </tr>\n",
       "    <tr>\n",
       "      <th>17</th>\n",
       "      <td>2020-05-20</td>\n",
       "      <td>3204.110065</td>\n",
       "      <td>2953.836646</td>\n",
       "      <td>3467.012691</td>\n",
       "      <td>2533</td>\n",
       "      <td>2020-05-02</td>\n",
       "    </tr>\n",
       "    <tr>\n",
       "      <th>18</th>\n",
       "      <td>2020-05-21</td>\n",
       "      <td>3328.537603</td>\n",
       "      <td>3049.857056</td>\n",
       "      <td>3608.484067</td>\n",
       "      <td>2519</td>\n",
       "      <td>2020-05-02</td>\n",
       "    </tr>\n",
       "    <tr>\n",
       "      <th>19</th>\n",
       "      <td>2020-05-22</td>\n",
       "      <td>3487.018446</td>\n",
       "      <td>3192.146144</td>\n",
       "      <td>3771.019532</td>\n",
       "      <td>2813</td>\n",
       "      <td>2020-05-02</td>\n",
       "    </tr>\n",
       "    <tr>\n",
       "      <th>20</th>\n",
       "      <td>2020-05-23</td>\n",
       "      <td>2970.132003</td>\n",
       "      <td>2663.735035</td>\n",
       "      <td>3267.690864</td>\n",
       "      <td>1988</td>\n",
       "      <td>2020-05-02</td>\n",
       "    </tr>\n",
       "    <tr>\n",
       "      <th>21</th>\n",
       "      <td>2020-05-24</td>\n",
       "      <td>2511.742281</td>\n",
       "      <td>2179.611156</td>\n",
       "      <td>2836.563618</td>\n",
       "      <td>1692</td>\n",
       "      <td>2020-05-02</td>\n",
       "    </tr>\n",
       "    <tr>\n",
       "      <th>22</th>\n",
       "      <td>2020-05-25</td>\n",
       "      <td>3425.344337</td>\n",
       "      <td>3089.342079</td>\n",
       "      <td>3746.440446</td>\n",
       "      <td>1895</td>\n",
       "      <td>2020-05-02</td>\n",
       "    </tr>\n",
       "    <tr>\n",
       "      <th>23</th>\n",
       "      <td>2020-05-26</td>\n",
       "      <td>3452.676301</td>\n",
       "      <td>3067.068722</td>\n",
       "      <td>3821.089639</td>\n",
       "      <td>2500</td>\n",
       "      <td>2020-05-02</td>\n",
       "    </tr>\n",
       "    <tr>\n",
       "      <th>24</th>\n",
       "      <td>2020-05-27</td>\n",
       "      <td>3545.505000</td>\n",
       "      <td>3162.308631</td>\n",
       "      <td>3922.415966</td>\n",
       "      <td>2675</td>\n",
       "      <td>2020-05-02</td>\n",
       "    </tr>\n",
       "    <tr>\n",
       "      <th>25</th>\n",
       "      <td>2020-05-28</td>\n",
       "      <td>3669.932537</td>\n",
       "      <td>3243.235176</td>\n",
       "      <td>4052.802003</td>\n",
       "      <td>2721</td>\n",
       "      <td>2020-05-02</td>\n",
       "    </tr>\n",
       "    <tr>\n",
       "      <th>26</th>\n",
       "      <td>2020-05-29</td>\n",
       "      <td>3828.413380</td>\n",
       "      <td>3410.491120</td>\n",
       "      <td>4243.775871</td>\n",
       "      <td>2844</td>\n",
       "      <td>2020-05-02</td>\n",
       "    </tr>\n",
       "    <tr>\n",
       "      <th>27</th>\n",
       "      <td>2020-05-30</td>\n",
       "      <td>3311.526937</td>\n",
       "      <td>2863.814035</td>\n",
       "      <td>3727.002575</td>\n",
       "      <td>2394</td>\n",
       "      <td>2020-05-02</td>\n",
       "    </tr>\n",
       "    <tr>\n",
       "      <th>28</th>\n",
       "      <td>2020-05-31</td>\n",
       "      <td>2853.137215</td>\n",
       "      <td>2391.273897</td>\n",
       "      <td>3309.128924</td>\n",
       "      <td>2438</td>\n",
       "      <td>2020-05-02</td>\n",
       "    </tr>\n",
       "    <tr>\n",
       "      <th>29</th>\n",
       "      <td>2020-06-01</td>\n",
       "      <td>3766.739271</td>\n",
       "      <td>3273.896246</td>\n",
       "      <td>4233.104588</td>\n",
       "      <td>10</td>\n",
       "      <td>2020-05-02</td>\n",
       "    </tr>\n",
       "  </tbody>\n",
       "</table>\n",
       "</div>"
      ],
      "text/plain": [
       "           ds         yhat   yhat_lower   yhat_upper     y     cutoff\n",
       "0  2020-05-03  1487.557478  1349.964525  1646.627029  1516 2020-05-02\n",
       "1  2020-05-04  2401.159534  2257.647266  2548.385545  2607 2020-05-02\n",
       "2  2020-05-05  2428.491498  2283.287118  2579.900247  2419 2020-05-02\n",
       "3  2020-05-06  2521.320197  2373.134718  2665.392275  2469 2020-05-02\n",
       "4  2020-05-07  2645.747734  2504.724606  2780.673981  2527 2020-05-02\n",
       "5  2020-05-08  2804.228577  2656.381347  2947.004412  2437 2020-05-02\n",
       "6  2020-05-09  2287.342134  2127.857676  2428.691589  1880 2020-05-02\n",
       "7  2020-05-10  1828.952412  1674.352601  1984.197364  1482 2020-05-02\n",
       "8  2020-05-11  2742.554469  2585.304127  2915.281893  2256 2020-05-02\n",
       "9  2020-05-12  2769.886432  2600.669358  2937.671560  2339 2020-05-02\n",
       "10 2020-05-13  2862.715131  2686.163950  3043.573188  2410 2020-05-02\n",
       "11 2020-05-14  2987.142668  2818.934658  3181.007316  2347 2020-05-02\n",
       "12 2020-05-15  3145.623512  2963.935391  3342.299330  2683 2020-05-02\n",
       "13 2020-05-16  2628.737068  2422.116402  2831.834281  1917 2020-05-02\n",
       "14 2020-05-17  2170.347346  1960.033648  2375.048693  1577 2020-05-02\n",
       "15 2020-05-18  3083.949403  2854.284940  3304.291077  2515 2020-05-02\n",
       "16 2020-05-19  3111.281367  2871.507333  3373.115351  2367 2020-05-02\n",
       "17 2020-05-20  3204.110065  2953.836646  3467.012691  2533 2020-05-02\n",
       "18 2020-05-21  3328.537603  3049.857056  3608.484067  2519 2020-05-02\n",
       "19 2020-05-22  3487.018446  3192.146144  3771.019532  2813 2020-05-02\n",
       "20 2020-05-23  2970.132003  2663.735035  3267.690864  1988 2020-05-02\n",
       "21 2020-05-24  2511.742281  2179.611156  2836.563618  1692 2020-05-02\n",
       "22 2020-05-25  3425.344337  3089.342079  3746.440446  1895 2020-05-02\n",
       "23 2020-05-26  3452.676301  3067.068722  3821.089639  2500 2020-05-02\n",
       "24 2020-05-27  3545.505000  3162.308631  3922.415966  2675 2020-05-02\n",
       "25 2020-05-28  3669.932537  3243.235176  4052.802003  2721 2020-05-02\n",
       "26 2020-05-29  3828.413380  3410.491120  4243.775871  2844 2020-05-02\n",
       "27 2020-05-30  3311.526937  2863.814035  3727.002575  2394 2020-05-02\n",
       "28 2020-05-31  2853.137215  2391.273897  3309.128924  2438 2020-05-02\n",
       "29 2020-06-01  3766.739271  3273.896246  4233.104588    10 2020-05-02"
      ]
     },
     "execution_count": 143,
     "metadata": {},
     "output_type": "execute_result"
    }
   ],
   "source": [
    "# Validation of our model\n",
    "# https://facebook.github.io/prophet/docs/diagnostics.html\n",
    "df_cv = cross_validation(m, initial = '30 days', period = '30 days', horizon = '30 days')\n",
    "df_cv"
   ]
  },
  {
   "cell_type": "code",
   "execution_count": 140,
   "metadata": {},
   "outputs": [
    {
     "data": {
      "text/html": [
       "<div>\n",
       "<style scoped>\n",
       "    .dataframe tbody tr th:only-of-type {\n",
       "        vertical-align: middle;\n",
       "    }\n",
       "\n",
       "    .dataframe tbody tr th {\n",
       "        vertical-align: top;\n",
       "    }\n",
       "\n",
       "    .dataframe thead th {\n",
       "        text-align: right;\n",
       "    }\n",
       "</style>\n",
       "<table border=\"1\" class=\"dataframe\">\n",
       "  <thead>\n",
       "    <tr style=\"text-align: right;\">\n",
       "      <th></th>\n",
       "      <th>horizon</th>\n",
       "      <th>mse</th>\n",
       "      <th>rmse</th>\n",
       "      <th>mae</th>\n",
       "      <th>mape</th>\n",
       "      <th>mdape</th>\n",
       "      <th>coverage</th>\n",
       "    </tr>\n",
       "  </thead>\n",
       "  <tbody>\n",
       "    <tr>\n",
       "      <th>0</th>\n",
       "      <td>3 days</td>\n",
       "      <td>1.442312e+04</td>\n",
       "      <td>120.096299</td>\n",
       "      <td>81.258162</td>\n",
       "      <td>0.033881</td>\n",
       "      <td>0.018762</td>\n",
       "      <td>0.666667</td>\n",
       "    </tr>\n",
       "    <tr>\n",
       "      <th>1</th>\n",
       "      <td>4 days</td>\n",
       "      <td>1.506593e+04</td>\n",
       "      <td>122.743349</td>\n",
       "      <td>89.217387</td>\n",
       "      <td>0.034690</td>\n",
       "      <td>0.021191</td>\n",
       "      <td>0.666667</td>\n",
       "    </tr>\n",
       "    <tr>\n",
       "      <th>2</th>\n",
       "      <td>5 days</td>\n",
       "      <td>5.642839e+03</td>\n",
       "      <td>75.118830</td>\n",
       "      <td>60.186476</td>\n",
       "      <td>0.024035</td>\n",
       "      <td>0.021191</td>\n",
       "      <td>1.000000</td>\n",
       "    </tr>\n",
       "    <tr>\n",
       "      <th>3</th>\n",
       "      <td>6 days</td>\n",
       "      <td>5.056509e+04</td>\n",
       "      <td>224.866816</td>\n",
       "      <td>179.432169</td>\n",
       "      <td>0.072957</td>\n",
       "      <td>0.046992</td>\n",
       "      <td>0.666667</td>\n",
       "    </tr>\n",
       "    <tr>\n",
       "      <th>4</th>\n",
       "      <td>7 days</td>\n",
       "      <td>1.049618e+05</td>\n",
       "      <td>323.978120</td>\n",
       "      <td>297.772815</td>\n",
       "      <td>0.138117</td>\n",
       "      <td>0.150689</td>\n",
       "      <td>0.333333</td>\n",
       "    </tr>\n",
       "    <tr>\n",
       "      <th>5</th>\n",
       "      <td>8 days</td>\n",
       "      <td>1.403868e+05</td>\n",
       "      <td>374.682274</td>\n",
       "      <td>373.841041</td>\n",
       "      <td>0.200490</td>\n",
       "      <td>0.216671</td>\n",
       "      <td>0.000000</td>\n",
       "    </tr>\n",
       "    <tr>\n",
       "      <th>6</th>\n",
       "      <td>9 days</td>\n",
       "      <td>1.743463e+05</td>\n",
       "      <td>417.547938</td>\n",
       "      <td>413.616338</td>\n",
       "      <td>0.222151</td>\n",
       "      <td>0.216671</td>\n",
       "      <td>0.000000</td>\n",
       "    </tr>\n",
       "    <tr>\n",
       "      <th>7</th>\n",
       "      <td>10 days</td>\n",
       "      <td>1.809248e+05</td>\n",
       "      <td>425.352538</td>\n",
       "      <td>421.464438</td>\n",
       "      <td>0.211333</td>\n",
       "      <td>0.215671</td>\n",
       "      <td>0.000000</td>\n",
       "    </tr>\n",
       "    <tr>\n",
       "      <th>8</th>\n",
       "      <td>11 days</td>\n",
       "      <td>2.091165e+05</td>\n",
       "      <td>457.292524</td>\n",
       "      <td>456.718677</td>\n",
       "      <td>0.195913</td>\n",
       "      <td>0.187849</td>\n",
       "      <td>0.000000</td>\n",
       "    </tr>\n",
       "    <tr>\n",
       "      <th>9</th>\n",
       "      <td>12 days</td>\n",
       "      <td>2.667989e+05</td>\n",
       "      <td>516.525812</td>\n",
       "      <td>507.914744</td>\n",
       "      <td>0.214939</td>\n",
       "      <td>0.187849</td>\n",
       "      <td>0.000000</td>\n",
       "    </tr>\n",
       "    <tr>\n",
       "      <th>10</th>\n",
       "      <td>13 days</td>\n",
       "      <td>2.762514e+05</td>\n",
       "      <td>525.596214</td>\n",
       "      <td>518.493770</td>\n",
       "      <td>0.211009</td>\n",
       "      <td>0.187849</td>\n",
       "      <td>0.000000</td>\n",
       "    </tr>\n",
       "    <tr>\n",
       "      <th>11</th>\n",
       "      <td>14 days</td>\n",
       "      <td>3.767909e+05</td>\n",
       "      <td>613.832986</td>\n",
       "      <td>604.834416</td>\n",
       "      <td>0.272151</td>\n",
       "      <td>0.272749</td>\n",
       "      <td>0.000000</td>\n",
       "    </tr>\n",
       "    <tr>\n",
       "      <th>12</th>\n",
       "      <td>15 days</td>\n",
       "      <td>3.575504e+05</td>\n",
       "      <td>597.955194</td>\n",
       "      <td>589.235975</td>\n",
       "      <td>0.306652</td>\n",
       "      <td>0.371277</td>\n",
       "      <td>0.000000</td>\n",
       "    </tr>\n",
       "    <tr>\n",
       "      <th>13</th>\n",
       "      <td>16 days</td>\n",
       "      <td>3.941114e+05</td>\n",
       "      <td>627.782911</td>\n",
       "      <td>624.677939</td>\n",
       "      <td>0.324583</td>\n",
       "      <td>0.371277</td>\n",
       "      <td>0.000000</td>\n",
       "    </tr>\n",
       "    <tr>\n",
       "      <th>14</th>\n",
       "      <td>17 days</td>\n",
       "      <td>4.099064e+05</td>\n",
       "      <td>640.239343</td>\n",
       "      <td>635.526039</td>\n",
       "      <td>0.305638</td>\n",
       "      <td>0.314441</td>\n",
       "      <td>0.000000</td>\n",
       "    </tr>\n",
       "    <tr>\n",
       "      <th>15</th>\n",
       "      <td>18 days</td>\n",
       "      <td>4.426823e+05</td>\n",
       "      <td>665.343745</td>\n",
       "      <td>661.446945</td>\n",
       "      <td>0.268537</td>\n",
       "      <td>0.264947</td>\n",
       "      <td>0.000000</td>\n",
       "    </tr>\n",
       "    <tr>\n",
       "      <th>16</th>\n",
       "      <td>19 days</td>\n",
       "      <td>5.532315e+05</td>\n",
       "      <td>743.795358</td>\n",
       "      <td>741.643011</td>\n",
       "      <td>0.300253</td>\n",
       "      <td>0.314441</td>\n",
       "      <td>0.000000</td>\n",
       "    </tr>\n",
       "    <tr>\n",
       "      <th>17</th>\n",
       "      <td>20 days</td>\n",
       "      <td>5.200136e+05</td>\n",
       "      <td>721.119665</td>\n",
       "      <td>718.222038</td>\n",
       "      <td>0.275309</td>\n",
       "      <td>0.264947</td>\n",
       "      <td>0.000000</td>\n",
       "    </tr>\n",
       "    <tr>\n",
       "      <th>18</th>\n",
       "      <td>21 days</td>\n",
       "      <td>6.914118e+05</td>\n",
       "      <td>831.511729</td>\n",
       "      <td>821.896017</td>\n",
       "      <td>0.351670</td>\n",
       "      <td>0.321373</td>\n",
       "      <td>0.000000</td>\n",
       "    </tr>\n",
       "    <tr>\n",
       "      <th>19</th>\n",
       "      <td>22 days</td>\n",
       "      <td>6.969538e+05</td>\n",
       "      <td>834.837617</td>\n",
       "      <td>825.297576</td>\n",
       "      <td>0.406040</td>\n",
       "      <td>0.484481</td>\n",
       "      <td>0.000000</td>\n",
       "    </tr>\n",
       "    <tr>\n",
       "      <th>20</th>\n",
       "      <td>23 days</td>\n",
       "      <td>1.326171e+06</td>\n",
       "      <td>1151.595193</td>\n",
       "      <td>1110.739540</td>\n",
       "      <td>0.595360</td>\n",
       "      <td>0.494030</td>\n",
       "      <td>0.000000</td>\n",
       "    </tr>\n",
       "    <tr>\n",
       "      <th>21</th>\n",
       "      <td>24 days</td>\n",
       "      <td>1.307174e+06</td>\n",
       "      <td>1143.317298</td>\n",
       "      <td>1100.920973</td>\n",
       "      <td>0.557707</td>\n",
       "      <td>0.484481</td>\n",
       "      <td>0.000000</td>\n",
       "    </tr>\n",
       "    <tr>\n",
       "      <th>22</th>\n",
       "      <td>25 days</td>\n",
       "      <td>1.335775e+06</td>\n",
       "      <td>1155.757310</td>\n",
       "      <td>1117.841879</td>\n",
       "      <td>0.504688</td>\n",
       "      <td>0.381071</td>\n",
       "      <td>0.000000</td>\n",
       "    </tr>\n",
       "    <tr>\n",
       "      <th>23</th>\n",
       "      <td>26 days</td>\n",
       "      <td>8.552813e+05</td>\n",
       "      <td>924.814224</td>\n",
       "      <td>924.037946</td>\n",
       "      <td>0.351746</td>\n",
       "      <td>0.348744</td>\n",
       "      <td>0.000000</td>\n",
       "    </tr>\n",
       "    <tr>\n",
       "      <th>24</th>\n",
       "      <td>27 days</td>\n",
       "      <td>8.757739e+05</td>\n",
       "      <td>935.827907</td>\n",
       "      <td>934.616972</td>\n",
       "      <td>0.340101</td>\n",
       "      <td>0.346137</td>\n",
       "      <td>0.000000</td>\n",
       "    </tr>\n",
       "    <tr>\n",
       "      <th>25</th>\n",
       "      <td>28 days</td>\n",
       "      <td>9.037994e+05</td>\n",
       "      <td>950.683674</td>\n",
       "      <td>950.290951</td>\n",
       "      <td>0.359381</td>\n",
       "      <td>0.348744</td>\n",
       "      <td>0.000000</td>\n",
       "    </tr>\n",
       "    <tr>\n",
       "      <th>26</th>\n",
       "      <td>29 days</td>\n",
       "      <td>6.610881e+05</td>\n",
       "      <td>813.073242</td>\n",
       "      <td>772.359177</td>\n",
       "      <td>0.299892</td>\n",
       "      <td>0.346137</td>\n",
       "      <td>0.333333</td>\n",
       "    </tr>\n",
       "    <tr>\n",
       "      <th>27</th>\n",
       "      <td>30 days</td>\n",
       "      <td>5.042428e+06</td>\n",
       "      <td>2245.535166</td>\n",
       "      <td>1696.467808</td>\n",
       "      <td>125.409155</td>\n",
       "      <td>0.383261</td>\n",
       "      <td>0.333333</td>\n",
       "    </tr>\n",
       "  </tbody>\n",
       "</table>\n",
       "</div>"
      ],
      "text/plain": [
       "   horizon           mse         rmse          mae        mape     mdape  \\\n",
       "0   3 days  1.442312e+04   120.096299    81.258162    0.033881  0.018762   \n",
       "1   4 days  1.506593e+04   122.743349    89.217387    0.034690  0.021191   \n",
       "2   5 days  5.642839e+03    75.118830    60.186476    0.024035  0.021191   \n",
       "3   6 days  5.056509e+04   224.866816   179.432169    0.072957  0.046992   \n",
       "4   7 days  1.049618e+05   323.978120   297.772815    0.138117  0.150689   \n",
       "5   8 days  1.403868e+05   374.682274   373.841041    0.200490  0.216671   \n",
       "6   9 days  1.743463e+05   417.547938   413.616338    0.222151  0.216671   \n",
       "7  10 days  1.809248e+05   425.352538   421.464438    0.211333  0.215671   \n",
       "8  11 days  2.091165e+05   457.292524   456.718677    0.195913  0.187849   \n",
       "9  12 days  2.667989e+05   516.525812   507.914744    0.214939  0.187849   \n",
       "10 13 days  2.762514e+05   525.596214   518.493770    0.211009  0.187849   \n",
       "11 14 days  3.767909e+05   613.832986   604.834416    0.272151  0.272749   \n",
       "12 15 days  3.575504e+05   597.955194   589.235975    0.306652  0.371277   \n",
       "13 16 days  3.941114e+05   627.782911   624.677939    0.324583  0.371277   \n",
       "14 17 days  4.099064e+05   640.239343   635.526039    0.305638  0.314441   \n",
       "15 18 days  4.426823e+05   665.343745   661.446945    0.268537  0.264947   \n",
       "16 19 days  5.532315e+05   743.795358   741.643011    0.300253  0.314441   \n",
       "17 20 days  5.200136e+05   721.119665   718.222038    0.275309  0.264947   \n",
       "18 21 days  6.914118e+05   831.511729   821.896017    0.351670  0.321373   \n",
       "19 22 days  6.969538e+05   834.837617   825.297576    0.406040  0.484481   \n",
       "20 23 days  1.326171e+06  1151.595193  1110.739540    0.595360  0.494030   \n",
       "21 24 days  1.307174e+06  1143.317298  1100.920973    0.557707  0.484481   \n",
       "22 25 days  1.335775e+06  1155.757310  1117.841879    0.504688  0.381071   \n",
       "23 26 days  8.552813e+05   924.814224   924.037946    0.351746  0.348744   \n",
       "24 27 days  8.757739e+05   935.827907   934.616972    0.340101  0.346137   \n",
       "25 28 days  9.037994e+05   950.683674   950.290951    0.359381  0.348744   \n",
       "26 29 days  6.610881e+05   813.073242   772.359177    0.299892  0.346137   \n",
       "27 30 days  5.042428e+06  2245.535166  1696.467808  125.409155  0.383261   \n",
       "\n",
       "    coverage  \n",
       "0   0.666667  \n",
       "1   0.666667  \n",
       "2   1.000000  \n",
       "3   0.666667  \n",
       "4   0.333333  \n",
       "5   0.000000  \n",
       "6   0.000000  \n",
       "7   0.000000  \n",
       "8   0.000000  \n",
       "9   0.000000  \n",
       "10  0.000000  \n",
       "11  0.000000  \n",
       "12  0.000000  \n",
       "13  0.000000  \n",
       "14  0.000000  \n",
       "15  0.000000  \n",
       "16  0.000000  \n",
       "17  0.000000  \n",
       "18  0.000000  \n",
       "19  0.000000  \n",
       "20  0.000000  \n",
       "21  0.000000  \n",
       "22  0.000000  \n",
       "23  0.000000  \n",
       "24  0.000000  \n",
       "25  0.000000  \n",
       "26  0.333333  \n",
       "27  0.333333  "
      ]
     },
     "execution_count": 140,
     "metadata": {},
     "output_type": "execute_result"
    }
   ],
   "source": [
    "# The performance_metrics utility can be used to compute some useful statistics of the prediction performance \n",
    "# (yhat, yhat_lower, and yhat_upper compared to y), as a function of the distance from the cutoff (how far \n",
    "# into the future the prediction was). The statistics computed are mean squared error (MSE), root mean squared error \n",
    "# (RMSE), mean absolute error (MAE), mean absolute percent error (MAPE), and coverage of the yhat_lower and yhat_upper \n",
    "# estimates. These are computed on a rolling window of the predictions in df_cv after sorting by horizon \n",
    "# (ds minus cutoff). # By default 10% of the predictions will be included in each window, but this can be changed with \n",
    "# the rolling_window argument.\n",
    "df_p = performance_metrics(df_cv)\n",
    "df_p"
   ]
  },
  {
   "cell_type": "code",
   "execution_count": 141,
   "metadata": {},
   "outputs": [
    {
     "data": {
      "image/png": "[encoded data removed]",
      "text/plain": [
       "<Figure size 720x432 with 1 Axes>"
      ]
     },
     "metadata": {},
     "output_type": "display_data"
    }
   ],
   "source": [
    "# Cross validation performance metrics can be visualized with plot_cross_validation_metric, \n",
    "# here shown for MAPE. Dots show the absolute percent error for each prediction in df_cv. \n",
    "# The blue line shows the MAPE, where the mean is taken over a rolling window of the dots. \n",
    "# We see for this forecast that errors around 5% are typical for predictions one month into the future, \n",
    "# and that errors increase up to around 11% for predictions that are a year out.\n",
    "fig1 = plot_cross_validation_metric(df_cv, metric = 'mape')"
   ]
  }
 ],
 "metadata": {
  "kernelspec": {
   "display_name": "Python 3",
   "language": "python",
   "name": "python3"
  },
  "language_info": {
   "codemirror_mode": {
    "name": "ipython",
    "version": 3
   },
   "file_extension": ".py",
   "mimetype": "text/x-python",
   "name": "python",
   "nbconvert_exporter": "python",
   "pygments_lexer": "ipython3",
   "version": "3.7.4"
  }
 },
 "nbformat": 4,
 "nbformat_minor": 2
}
